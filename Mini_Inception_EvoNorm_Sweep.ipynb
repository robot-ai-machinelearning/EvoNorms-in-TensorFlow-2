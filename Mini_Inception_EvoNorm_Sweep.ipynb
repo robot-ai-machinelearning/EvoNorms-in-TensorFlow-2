{
  "nbformat": 4,
  "nbformat_minor": 0,
  "metadata": {
    "colab": {
      "name": "Mini_Inception_EvoNorm_Sweep.ipynb",
      "provenance": [],
      "collapsed_sections": [],
      "authorship_tag": "ABX9TyNC4wNIo9RDuUIWYVg1rSrZ",
      "include_colab_link": true
    },
    "kernelspec": {
      "name": "python3",
      "display_name": "Python 3"
    },
    "accelerator": "GPU"
  },
  "cells": [
    {
      "cell_type": "markdown",
      "metadata": {
        "id": "view-in-github",
        "colab_type": "text"
      },
      "source": [
        "<a href=\"https://colab.research.google.com/github/sayakpaul/EvoNorms-in-TensorFlow-2/blob/master/Mini_Inception_EvoNorm_Sweep.ipynb\" target=\"_parent\"><img src=\"https://colab.research.google.com/assets/colab-badge.svg\" alt=\"Open In Colab\"/></a>"
      ]
    },
    {
      "cell_type": "code",
      "metadata": {
        "id": "P9Zu7Yo05Z2B",
        "colab_type": "code",
        "colab": {}
      },
      "source": [
        "# Which GPU?\n",
        "!nvidia-smi"
      ],
      "execution_count": 0,
      "outputs": []
    },
    {
      "cell_type": "code",
      "metadata": {
        "id": "Db2J7ef05rbP",
        "colab_type": "code",
        "colab": {
          "base_uri": "https://localhost:8080/",
          "height": 34
        },
        "outputId": "5d7e9dbf-9966-4fdb-cb6d-97a153ddd830"
      },
      "source": [
        "# TensorFlow imports\n",
        "import tensorflow as tf\n",
        "print(tf.__version__)"
      ],
      "execution_count": 2,
      "outputs": [
        {
          "output_type": "stream",
          "text": [
            "2.2.0-rc3\n"
          ],
          "name": "stdout"
        }
      ]
    },
    {
      "cell_type": "code",
      "metadata": {
        "id": "kpgVpVAT52tQ",
        "colab_type": "code",
        "colab": {}
      },
      "source": [
        "# Other imports\n",
        "from tensorflow.keras.models import *\n",
        "from tensorflow.keras.layers import *\n",
        "import matplotlib.pyplot as plt\n",
        "import numpy as np"
      ],
      "execution_count": 0,
      "outputs": []
    },
    {
      "cell_type": "code",
      "metadata": {
        "id": "iQfMpKon54ek",
        "colab_type": "code",
        "colab": {}
      },
      "source": [
        "# Set the random seeds\n",
        "tf.random.set_seed(666)\n",
        "np.random.seed(666)"
      ],
      "execution_count": 0,
      "outputs": []
    },
    {
      "cell_type": "code",
      "metadata": {
        "id": "kF-De6t76AVF",
        "colab_type": "code",
        "colab": {}
      },
      "source": [
        "# Set up wandb for easy experiment tracking\n",
        "!pip install wandb -q\n",
        "import wandb\n",
        "wandb.login()"
      ],
      "execution_count": 0,
      "outputs": []
    },
    {
      "cell_type": "code",
      "metadata": {
        "id": "Vn2qwxQI6BnA",
        "colab_type": "code",
        "colab": {
          "base_uri": "https://localhost:8080/",
          "height": 68
        },
        "outputId": "ad777ba6-0494-478c-fcca-a048670d56e9"
      },
      "source": [
        "# Load and preprocess CIFAR10 dataset\n",
        "(X_train, y_train), (X_test, y_test) = tf.keras.datasets.cifar10.load_data()\n",
        "X_train = X_train / 255.\n",
        "X_test = X_test / 255.\n",
        "print(X_train.shape, X_test.shape)"
      ],
      "execution_count": 6,
      "outputs": [
        {
          "output_type": "stream",
          "text": [
            "Downloading data from https://www.cs.toronto.edu/~kriz/cifar-10-python.tar.gz\n",
            "170500096/170498071 [==============================] - 11s 0us/step\n",
            "(50000, 32, 32, 3) (10000, 32, 32, 3)\n"
          ],
          "name": "stdout"
        }
      ]
    },
    {
      "cell_type": "markdown",
      "metadata": {
        "id": "K90MizFw6Qoq",
        "colab_type": "text"
      },
      "source": [
        "## `EvoNorm2dS0`"
      ]
    },
    {
      "cell_type": "code",
      "metadata": {
        "id": "tFgSX1Ed6MW1",
        "colab_type": "code",
        "colab": {}
      },
      "source": [
        "# Reference\n",
        "# https://github.com/lonePatient/EvoNorms_PyTorch/blob/master/models/normalization.py\n",
        "\n",
        "def group_std(x, groups=32, eps=1e-5):\n",
        "\tN, H, W, C = tf.shape(x)\n",
        "\tx = tf.reshape(x, [N, H, W, groups, C // groups])\n",
        "\t_, var = tf.nn.moments(x, [1, 2, 4], keepdims=True)\n",
        "\tstd = tf.sqrt(var + eps)\n",
        "\tstd = tf.broadcast_to(std, x.shape)\n",
        "\treturn tf.reshape(std, (N, H, W, C))\n",
        "\n",
        "class EvoNorm2dS0(tf.keras.layers.Layer):\n",
        "\tdef __init__(self, in_channels, groups=32, nonlinear=True):\n",
        "\t\tsuper(EvoNorm2dS0, self).__init__()\n",
        "\t\tself.nonlinear = nonlinear\n",
        "\t\tself.groups = groups\n",
        "\n",
        "\t\tdef build(self):\n",
        "\t\t\tself.gamma = self.add_variable(\"gamma\",\n",
        "\t\t\t\t\t\t\t\t\tshape=(1, self.in_channels, 1, 1),\n",
        "\t\t\t\t\t\t\t\t\tinitializer=tf.initializers.Ones())\n",
        "\t\t\tself.beta = self.add_variable(\"beta\",\n",
        "\t\t\t\t\t\t\t\t\tshape=(1, self.in_channels, 1, 1),\n",
        "\t\t\t\t\t\t\t\t\tinitializer=tf.initializers.Zeros())\n",
        "\t\t\tif self.nonlinear:\n",
        "\t\t\t\tself.v = self.add_variable(\"v\",\n",
        "\t\t\t\t\t\t\t\t\tshape=(1, self.in_channels, 1, 1),\n",
        "\t\t\t\t\t\t\t\t\tinitializer=tf.initializers.Ones())\n",
        "\n",
        "\t\tdef call(self, x):\n",
        "\t\t\tif self.nonlinear:\n",
        "\t\t\t\tnum = x * tf.nn.sigmoid(self.v * x)\n",
        "\t\t\t\treturn num / group_std(x) * self.gamma + self.beta\n",
        "\t\t\telse:\n",
        "\t\t\t\treturn x * self.gamma + self.beta"
      ],
      "execution_count": 0,
      "outputs": []
    },
    {
      "cell_type": "markdown",
      "metadata": {
        "id": "Cw-827Fm6sGN",
        "colab_type": "text"
      },
      "source": [
        "## Mini Inception"
      ]
    },
    {
      "cell_type": "code",
      "metadata": {
        "id": "7AR-ipdE6WHq",
        "colab_type": "code",
        "colab": {}
      },
      "source": [
        "# Implementation comes from http://pyimg.co/mac01\n",
        "def minigooglenet_functional(width, height, depth, classes, norm=EvoNorm2dS0, groups=32):\n",
        "\tdef conv_module(x, K, kX, kY, stride, chanDim, padding=\"same\"):\n",
        "\t\t# define a CONV => EvoNorm pattern\n",
        "\t\tx = Conv2D(K, (kX, kY), strides=stride, padding=padding)(x)\n",
        "\t\t\n",
        "\t\tif isinstance(norm, EvoNorm2dS0):\n",
        "\t\t\tlayer = norm(in_channels=K, groups=groups)\n",
        "\t\telse:\n",
        "\t\t\tlayer = norm(in_channels=K)\n",
        "\t\t\n",
        "\t\tx = layer(x)\n",
        "\n",
        "\t\t# return the block\n",
        "\t\treturn x\n",
        "\n",
        "\tdef inception_module(x, numK1x1, numK3x3, chanDim):\n",
        "\t\t# define two CONV modules, then concatenate across the\n",
        "\t\t# channel dimension\n",
        "\t\tconv_1x1 = conv_module(x, numK1x1, 1, 1, (1, 1), chanDim)\n",
        "\t\tconv_3x3 = conv_module(x, numK3x3, 3, 3, (1, 1), chanDim)\n",
        "\t\tx = concatenate([conv_1x1, conv_3x3], axis=chanDim)\n",
        "\n",
        "\t\t# return the block\n",
        "\t\treturn x\n",
        "\n",
        "\tdef downsample_module(x, K, chanDim):\n",
        "\t\t# define the CONV module and POOL, then concatenate\n",
        "\t\t# across the channel dimensions\n",
        "\t\tconv_3x3 = conv_module(x, K, 3, 3, (2, 2), chanDim,\n",
        "\t\t\tpadding=\"valid\")\n",
        "\t\tpool = MaxPooling2D((3, 3), strides=(2, 2))(x)\n",
        "\t\tx = concatenate([conv_3x3, pool], axis=chanDim)\n",
        "\n",
        "\t\t# return the block\n",
        "\t\treturn x\n",
        "\n",
        "\t# initialize the input shape to be \"channels last\" and the\n",
        "\t# channels dimension itself\n",
        "\tinputShape = (height, width, depth)\n",
        "\tchanDim = -1\n",
        "\n",
        "\t# define the model input and first CONV module\n",
        "\tinputs = Input(shape=inputShape)\n",
        "\tx = conv_module(inputs, 96, 3, 3, (1, 1), chanDim)\n",
        "\n",
        "\t# two Inception modules followed by a downsample module\n",
        "\tx = inception_module(x, 32, 32, chanDim)\n",
        "\tx = inception_module(x, 32, 48, chanDim)\n",
        "\tx = downsample_module(x, 80, chanDim)\n",
        "\n",
        "\t# four Inception modules followed by a downsample module\n",
        "\tx = inception_module(x, 112, 48, chanDim)\n",
        "\tx = inception_module(x, 96, 64, chanDim)\n",
        "\tx = inception_module(x, 80, 80, chanDim)\n",
        "\tx = inception_module(x, 48, 96, chanDim)\n",
        "\tx = downsample_module(x, 96, chanDim)\n",
        "\n",
        "\t# two Inception modules followed by global POOL and dropout\n",
        "\tx = inception_module(x, 176, 160, chanDim)\n",
        "\tx = inception_module(x, 176, 160, chanDim)\n",
        "\tx = AveragePooling2D((7, 7))(x)\n",
        "\tx = Dropout(0.5)(x)\n",
        "\n",
        "\t# softmax classifier\n",
        "\tx = Flatten()(x)\n",
        "\tx = Dense(classes)(x)\n",
        "\tx = Activation(\"softmax\")(x)\n",
        "\n",
        "\t# create the model\n",
        "\tmodel = Model(inputs, x, name=\"minigooglenet\")\n",
        "\n",
        "\t# return the constructed network architecture\n",
        "\treturn model"
      ],
      "execution_count": 0,
      "outputs": []
    },
    {
      "cell_type": "code",
      "metadata": {
        "id": "8Hvf1HFq6uht",
        "colab_type": "code",
        "colab": {}
      },
      "source": [
        "# One-hot encoding of the labels\n",
        "y_train_ohe = tf.keras.utils.to_categorical(y_train)\n",
        "y_test_ohe = tf.keras.utils.to_categorical(y_test)"
      ],
      "execution_count": 0,
      "outputs": []
    },
    {
      "cell_type": "code",
      "metadata": {
        "id": "sHr45ZdM6z7O",
        "colab_type": "code",
        "colab": {}
      },
      "source": [
        "# Hyperparameters\n",
        "BATCH_SIZE=128\n",
        "EPOCHS=60"
      ],
      "execution_count": 0,
      "outputs": []
    },
    {
      "cell_type": "code",
      "metadata": {
        "id": "asAl_dv461U_",
        "colab_type": "code",
        "colab": {}
      },
      "source": [
        "# Import wandb's Keras callback\n",
        "from wandb.keras import WandbCallback"
      ],
      "execution_count": 0,
      "outputs": []
    },
    {
      "cell_type": "code",
      "metadata": {
        "id": "hPXuOokS63FH",
        "colab_type": "code",
        "colab": {}
      },
      "source": [
        "# Configure the sweep – specify the parameters to search through, the search strategy, the optimization metric et all.\n",
        "sweep_config = {\n",
        "    \"method\": \"random\", #grid, random\n",
        "    \"metric\": {\n",
        "      \"name\": \"accuracy\",\n",
        "      \"goal\": \"maximize\"   \n",
        "    },\n",
        "    \"parameters\": {\n",
        "        \"groups\": {\n",
        "            \"values\": [4, 8, 12, 16, 32]\n",
        "        },\n",
        "        \"epochs\": {\n",
        "            \"values\": [10, 20, 30, 40]\n",
        "        },\n",
        "        \"learning_rate\": {\n",
        "            \"values\": [1e-2, 1e-3, 1e-4, 3e-4, 3e-5, 1e-5]\n",
        "        },\n",
        "        \"optimizer\": {\n",
        "            'values': [\"adam\", \"sgd\"]\n",
        "        }\n",
        "    }\n",
        "}"
      ],
      "execution_count": 0,
      "outputs": []
    },
    {
      "cell_type": "code",
      "metadata": {
        "id": "xA0Iw0dg7D-d",
        "colab_type": "code",
        "colab": {
          "base_uri": "https://localhost:8080/",
          "height": 51
        },
        "outputId": "06802fbd-5675-4150-8796-249aa1e1fb22"
      },
      "source": [
        "# Initialize the sweep\n",
        "sweep_id = wandb.sweep(sweep_config, entity=\"sayakpaul\", project=\"evonorm-tf2\")"
      ],
      "execution_count": 19,
      "outputs": [
        {
          "output_type": "stream",
          "text": [
            "Create sweep with ID: 5aefityj\n",
            "Sweep URL: https://app.wandb.ai/sayakpaul/evonorm-tf2/sweeps/5aefityj\n"
          ],
          "name": "stdout"
        }
      ]
    },
    {
      "cell_type": "code",
      "metadata": {
        "id": "YFDZv5Oh7K9w",
        "colab_type": "code",
        "colab": {}
      },
      "source": [
        "# Define the training loop\n",
        "def train():\n",
        "    # Default values for hyper-parameters we're going to sweep over\n",
        "    config_defaults = {\n",
        "        \"batch_size\": 128,\n",
        "    }\n",
        "    \n",
        "    # Initialize a new wandb run\n",
        "    wandb.init(config=config_defaults, project=\"evonorm-tf2\")\n",
        "    \n",
        "    # Config is a variable that holds and saves hyperparameters and inputs\n",
        "    config = wandb.config\n",
        "    \n",
        "    # Call model with the current parameters\n",
        "    model = minigooglenet_functional(32, 32, 3, 10, norm=EvoNorm2dS0, groups=config.groups)\n",
        "    \n",
        "    # Set up optimizer\n",
        "    if config.optimizer==\"sgd\":\n",
        "        optimizer = tf.keras.optimizers.SGD(lr=config.learning_rate, momentum=0.9, decay=1e-2 / config.epochs)\n",
        "    elif config.optimizer==\"adam\":\n",
        "        optimizer = tf.keras.optimizers.Adam(lr=config.learning_rate, beta_1=0.9, beta_2=0.999, clipnorm=1.0)\n",
        "    \n",
        "    # Compile model\n",
        "    model.compile(loss=\"categorical_crossentropy\", optimizer=optimizer,\n",
        "\t    metrics=[\"accuracy\"])\n",
        "    \n",
        "    # Train model    \n",
        "    model.fit(X_train, y_train_ohe,\n",
        "                    validation_data=(X_test, y_test_ohe),\n",
        "                    batch_size=config_defaults[\"batch_size\"],\n",
        "                    epochs=config.epochs,\n",
        "                    callbacks=[WandbCallback()])"
      ],
      "execution_count": 0,
      "outputs": []
    },
    {
      "cell_type": "code",
      "metadata": {
        "id": "D8XVKGLF_FOM",
        "colab_type": "code",
        "colab": {
          "base_uri": "https://localhost:8080/",
          "height": 1000
        },
        "outputId": "f1164382-592f-4a7c-a4fd-d7d1d0661ac3"
      },
      "source": [
        "# Initialize sweep\n",
        "wandb.agent(sweep_id, train)"
      ],
      "execution_count": 27,
      "outputs": [
        {
          "output_type": "stream",
          "text": [
            "wandb: Agent Starting Run: s3teel5k with config:\n",
            "\tepochs: 40\n",
            "\tgroups: 12\n",
            "\tlearning_rate: 1e-05\n",
            "\toptimizer: adam\n",
            "wandb: Agent Started Run: s3teel5k\n"
          ],
          "name": "stdout"
        },
        {
          "output_type": "display_data",
          "data": {
            "text/html": [
              "\n",
              "                Logging results to <a href=\"https://wandb.com\" target=\"_blank\">Weights & Biases</a> <a href=\"https://docs.wandb.com/integrations/jupyter.html\" target=\"_blank\">(Documentation)</a>.<br/>\n",
              "                Project page: <a href=\"https://app.wandb.ai/sayakpaul/evonorm-tf2\" target=\"_blank\">https://app.wandb.ai/sayakpaul/evonorm-tf2</a><br/>\n",
              "                Sweep page: <a href=\"https://app.wandb.ai/sayakpaul/evonorm-tf2/sweeps/5aefityj\" target=\"_blank\">https://app.wandb.ai/sayakpaul/evonorm-tf2/sweeps/5aefityj</a><br/>\n",
              "Run page: <a href=\"https://app.wandb.ai/sayakpaul/evonorm-tf2/runs/s3teel5k\" target=\"_blank\">https://app.wandb.ai/sayakpaul/evonorm-tf2/runs/s3teel5k</a><br/>\n",
              "            "
            ],
            "text/plain": [
              "<IPython.core.display.HTML object>"
            ]
          },
          "metadata": {
            "tags": []
          }
        },
        {
          "output_type": "stream",
          "text": [
            "Epoch 1/40\n",
            "391/391 [==============================] - ETA: 0s - loss: 2.0304 - accuracy: 0.2449"
          ],
          "name": "stdout"
        },
        {
          "output_type": "stream",
          "text": [
            "\u001b[34m\u001b[1mwandb\u001b[0m: \u001b[32m\u001b[41mERROR\u001b[0m Can't save model, h5py returned error: Layer EvoNorm2dS0 has arguments in `__init__` and therefore must override `get_config`.\n"
          ],
          "name": "stderr"
        },
        {
          "output_type": "stream",
          "text": [
            "\b\b\b\b\b\b\b\b\b\b\b\b\b\b\b\b\b\b\b\b\b\b\b\b\b\b\b\b\b\b\b\b\b\b\b\b\b\b\b\b\b\b\b\b\b\b\b\b\b\b\b\b\b\b\b\b\b\b\b\b\b\b\b\b\b\b\b\b\b\b\b\b\b\b\b\b\b\b\b\b\b\b\b\b\r391/391 [==============================] - 16s 42ms/step - loss: 2.0304 - accuracy: 0.2449 - val_loss: 1.8668 - val_accuracy: 0.3264\n",
            "Epoch 2/40\n",
            "391/391 [==============================] - 16s 40ms/step - loss: 1.8513 - accuracy: 0.3189 - val_loss: 1.7637 - val_accuracy: 0.3731\n",
            "Epoch 3/40\n",
            "391/391 [==============================] - 16s 40ms/step - loss: 1.7483 - accuracy: 0.3608 - val_loss: 1.6546 - val_accuracy: 0.4023\n",
            "Epoch 4/40\n",
            "391/391 [==============================] - 16s 40ms/step - loss: 1.6641 - accuracy: 0.3877 - val_loss: 1.5990 - val_accuracy: 0.4254\n",
            "Epoch 5/40\n",
            "391/391 [==============================] - 16s 40ms/step - loss: 1.6231 - accuracy: 0.4065 - val_loss: 1.5540 - val_accuracy: 0.4408\n",
            "Epoch 6/40\n",
            "391/391 [==============================] - 16s 40ms/step - loss: 1.5895 - accuracy: 0.4231 - val_loss: 1.5325 - val_accuracy: 0.4467\n",
            "Epoch 7/40\n",
            "391/391 [==============================] - 16s 40ms/step - loss: 1.5618 - accuracy: 0.4311 - val_loss: 1.5055 - val_accuracy: 0.4567\n",
            "Epoch 8/40\n",
            "391/391 [==============================] - 16s 40ms/step - loss: 1.5397 - accuracy: 0.4446 - val_loss: 1.5170 - val_accuracy: 0.4582\n",
            "Epoch 9/40\n",
            "391/391 [==============================] - 16s 40ms/step - loss: 1.5214 - accuracy: 0.4513 - val_loss: 1.4824 - val_accuracy: 0.4701\n",
            "Epoch 10/40\n",
            "391/391 [==============================] - 16s 40ms/step - loss: 1.4984 - accuracy: 0.4616 - val_loss: 1.4537 - val_accuracy: 0.4841\n",
            "Epoch 11/40\n",
            "391/391 [==============================] - 16s 40ms/step - loss: 1.4758 - accuracy: 0.4708 - val_loss: 1.4305 - val_accuracy: 0.4916\n",
            "Epoch 12/40\n",
            "391/391 [==============================] - 16s 40ms/step - loss: 1.4596 - accuracy: 0.4794 - val_loss: 1.4132 - val_accuracy: 0.5042\n",
            "Epoch 13/40\n",
            "391/391 [==============================] - 16s 40ms/step - loss: 1.4393 - accuracy: 0.4884 - val_loss: 1.4032 - val_accuracy: 0.5049\n",
            "Epoch 14/40\n",
            "391/391 [==============================] - 15s 40ms/step - loss: 1.4189 - accuracy: 0.4960 - val_loss: 1.3804 - val_accuracy: 0.5146\n",
            "Epoch 15/40\n",
            "391/391 [==============================] - 15s 40ms/step - loss: 1.4064 - accuracy: 0.5009 - val_loss: 1.3832 - val_accuracy: 0.5130\n",
            "Epoch 16/40\n",
            "391/391 [==============================] - 16s 40ms/step - loss: 1.3885 - accuracy: 0.5074 - val_loss: 1.3621 - val_accuracy: 0.5271\n",
            "Epoch 17/40\n",
            "391/391 [==============================] - 15s 40ms/step - loss: 1.3754 - accuracy: 0.5145 - val_loss: 1.3422 - val_accuracy: 0.5298\n",
            "Epoch 18/40\n",
            "391/391 [==============================] - 15s 40ms/step - loss: 1.3610 - accuracy: 0.5202 - val_loss: 1.3289 - val_accuracy: 0.5388\n",
            "Epoch 19/40\n",
            "391/391 [==============================] - 15s 40ms/step - loss: 1.3499 - accuracy: 0.5260 - val_loss: 1.3188 - val_accuracy: 0.5442\n",
            "Epoch 20/40\n",
            "391/391 [==============================] - 15s 39ms/step - loss: 1.3357 - accuracy: 0.5303 - val_loss: 1.3297 - val_accuracy: 0.5266\n",
            "Epoch 21/40\n",
            "391/391 [==============================] - 15s 40ms/step - loss: 1.3242 - accuracy: 0.5356 - val_loss: 1.2860 - val_accuracy: 0.5579\n",
            "Epoch 22/40\n",
            "391/391 [==============================] - 15s 40ms/step - loss: 1.3122 - accuracy: 0.5418 - val_loss: 1.3020 - val_accuracy: 0.5437\n",
            "Epoch 23/40\n",
            "391/391 [==============================] - 15s 40ms/step - loss: 1.3017 - accuracy: 0.5430 - val_loss: 1.2708 - val_accuracy: 0.5660\n",
            "Epoch 24/40\n",
            "391/391 [==============================] - 15s 40ms/step - loss: 1.2884 - accuracy: 0.5502 - val_loss: 1.2725 - val_accuracy: 0.5523\n",
            "Epoch 25/40\n",
            "391/391 [==============================] - 16s 40ms/step - loss: 1.2768 - accuracy: 0.5518 - val_loss: 1.2492 - val_accuracy: 0.5705\n",
            "Epoch 26/40\n",
            "391/391 [==============================] - 15s 40ms/step - loss: 1.2669 - accuracy: 0.5585 - val_loss: 1.2396 - val_accuracy: 0.5772\n",
            "Epoch 27/40\n",
            "391/391 [==============================] - 15s 40ms/step - loss: 1.2550 - accuracy: 0.5642 - val_loss: 1.2377 - val_accuracy: 0.5722\n",
            "Epoch 28/40\n",
            "391/391 [==============================] - 16s 40ms/step - loss: 1.2455 - accuracy: 0.5673 - val_loss: 1.2348 - val_accuracy: 0.5773\n",
            "Epoch 29/40\n",
            "391/391 [==============================] - 15s 39ms/step - loss: 1.2340 - accuracy: 0.5703 - val_loss: 1.2098 - val_accuracy: 0.5925\n",
            "Epoch 30/40\n",
            "391/391 [==============================] - 15s 40ms/step - loss: 1.2244 - accuracy: 0.5761 - val_loss: 1.2084 - val_accuracy: 0.5845\n",
            "Epoch 31/40\n",
            "391/391 [==============================] - 15s 39ms/step - loss: 1.2174 - accuracy: 0.5784 - val_loss: 1.1965 - val_accuracy: 0.5880\n",
            "Epoch 32/40\n",
            "391/391 [==============================] - 16s 40ms/step - loss: 1.2077 - accuracy: 0.5823 - val_loss: 1.1915 - val_accuracy: 0.5866\n",
            "Epoch 33/40\n",
            "391/391 [==============================] - 15s 40ms/step - loss: 1.2013 - accuracy: 0.5858 - val_loss: 1.1750 - val_accuracy: 0.5980\n",
            "Epoch 34/40\n",
            "391/391 [==============================] - 15s 40ms/step - loss: 1.1947 - accuracy: 0.5903 - val_loss: 1.1677 - val_accuracy: 0.5991\n",
            "Epoch 35/40\n",
            "391/391 [==============================] - 15s 40ms/step - loss: 1.1847 - accuracy: 0.5911 - val_loss: 1.1577 - val_accuracy: 0.6002\n",
            "Epoch 36/40\n",
            "391/391 [==============================] - 15s 39ms/step - loss: 1.1712 - accuracy: 0.5951 - val_loss: 1.1618 - val_accuracy: 0.6008\n",
            "Epoch 37/40\n",
            "391/391 [==============================] - 15s 40ms/step - loss: 1.1680 - accuracy: 0.5970 - val_loss: 1.1545 - val_accuracy: 0.5973\n",
            "Epoch 38/40\n",
            "391/391 [==============================] - 15s 40ms/step - loss: 1.1594 - accuracy: 0.5992 - val_loss: 1.1504 - val_accuracy: 0.5989\n",
            "Epoch 39/40\n",
            "391/391 [==============================] - 15s 40ms/step - loss: 1.1516 - accuracy: 0.6018 - val_loss: 1.1263 - val_accuracy: 0.6161\n",
            "Epoch 40/40\n",
            "391/391 [==============================] - 15s 40ms/step - loss: 1.1451 - accuracy: 0.6057 - val_loss: 1.1349 - val_accuracy: 0.6145\n",
            "wandb: Agent Finished Run: s3teel5k \n",
            "\n",
            "wandb: Agent Starting Run: mabtm4qs with config:\n",
            "\tepochs: 10\n",
            "\tgroups: 32\n",
            "\tlearning_rate: 1e-05\n",
            "\toptimizer: adam\n",
            "wandb: Agent Started Run: mabtm4qs\n"
          ],
          "name": "stdout"
        },
        {
          "output_type": "display_data",
          "data": {
            "text/html": [
              "\n",
              "                Logging results to <a href=\"https://wandb.com\" target=\"_blank\">Weights & Biases</a> <a href=\"https://docs.wandb.com/integrations/jupyter.html\" target=\"_blank\">(Documentation)</a>.<br/>\n",
              "                Project page: <a href=\"https://app.wandb.ai/sayakpaul/evonorm-tf2\" target=\"_blank\">https://app.wandb.ai/sayakpaul/evonorm-tf2</a><br/>\n",
              "                Sweep page: <a href=\"https://app.wandb.ai/sayakpaul/evonorm-tf2/sweeps/5aefityj\" target=\"_blank\">https://app.wandb.ai/sayakpaul/evonorm-tf2/sweeps/5aefityj</a><br/>\n",
              "Run page: <a href=\"https://app.wandb.ai/sayakpaul/evonorm-tf2/runs/mabtm4qs\" target=\"_blank\">https://app.wandb.ai/sayakpaul/evonorm-tf2/runs/mabtm4qs</a><br/>\n",
              "            "
            ],
            "text/plain": [
              "<IPython.core.display.HTML object>"
            ]
          },
          "metadata": {
            "tags": []
          }
        },
        {
          "output_type": "stream",
          "text": [
            "Epoch 1/10\n",
            "391/391 [==============================] - ETA: 0s - loss: 2.0304 - accuracy: 0.2449"
          ],
          "name": "stdout"
        },
        {
          "output_type": "stream",
          "text": [
            "\u001b[34m\u001b[1mwandb\u001b[0m: \u001b[32m\u001b[41mERROR\u001b[0m Can't save model, h5py returned error: Layer EvoNorm2dS0 has arguments in `__init__` and therefore must override `get_config`.\n"
          ],
          "name": "stderr"
        },
        {
          "output_type": "stream",
          "text": [
            "\b\b\b\b\b\b\b\b\b\b\b\b\b\b\b\b\b\b\b\b\b\b\b\b\b\b\b\b\b\b\b\b\b\b\b\b\b\b\b\b\b\b\b\b\b\b\b\b\b\b\b\b\b\b\b\b\b\b\b\b\b\b\b\b\b\b\b\b\b\b\b\b\b\b\b\b\b\b\b\b\b\b\b\b\r391/391 [==============================] - 16s 42ms/step - loss: 2.0304 - accuracy: 0.2449 - val_loss: 1.8668 - val_accuracy: 0.3264\n",
            "Epoch 2/10\n",
            "391/391 [==============================] - 15s 40ms/step - loss: 1.8513 - accuracy: 0.3189 - val_loss: 1.7637 - val_accuracy: 0.3731\n",
            "Epoch 3/10\n",
            "391/391 [==============================] - 15s 40ms/step - loss: 1.7483 - accuracy: 0.3608 - val_loss: 1.6546 - val_accuracy: 0.4023\n",
            "Epoch 4/10\n",
            "391/391 [==============================] - 16s 40ms/step - loss: 1.6641 - accuracy: 0.3878 - val_loss: 1.5990 - val_accuracy: 0.4254\n",
            "Epoch 5/10\n",
            "391/391 [==============================] - 15s 40ms/step - loss: 1.6231 - accuracy: 0.4064 - val_loss: 1.5540 - val_accuracy: 0.4408\n",
            "Epoch 6/10\n",
            "391/391 [==============================] - 15s 40ms/step - loss: 1.5895 - accuracy: 0.4231 - val_loss: 1.5325 - val_accuracy: 0.4467\n",
            "Epoch 7/10\n",
            "391/391 [==============================] - 15s 40ms/step - loss: 1.5618 - accuracy: 0.4311 - val_loss: 1.5055 - val_accuracy: 0.4567\n",
            "Epoch 8/10\n",
            "391/391 [==============================] - 15s 40ms/step - loss: 1.5397 - accuracy: 0.4446 - val_loss: 1.5170 - val_accuracy: 0.4581\n",
            "Epoch 9/10\n",
            "391/391 [==============================] - 15s 40ms/step - loss: 1.5214 - accuracy: 0.4513 - val_loss: 1.4824 - val_accuracy: 0.4700\n",
            "Epoch 10/10\n",
            "391/391 [==============================] - 15s 39ms/step - loss: 1.4984 - accuracy: 0.4615 - val_loss: 1.4537 - val_accuracy: 0.4842\n",
            "wandb: Agent Finished Run: mabtm4qs \n",
            "\n",
            "wandb: Agent Starting Run: pq216vza with config:\n",
            "\tepochs: 10\n",
            "\tgroups: 12\n",
            "\tlearning_rate: 0.0003\n",
            "\toptimizer: sgd\n",
            "wandb: Agent Started Run: pq216vza\n"
          ],
          "name": "stdout"
        },
        {
          "output_type": "display_data",
          "data": {
            "text/html": [
              "\n",
              "                Logging results to <a href=\"https://wandb.com\" target=\"_blank\">Weights & Biases</a> <a href=\"https://docs.wandb.com/integrations/jupyter.html\" target=\"_blank\">(Documentation)</a>.<br/>\n",
              "                Project page: <a href=\"https://app.wandb.ai/sayakpaul/evonorm-tf2\" target=\"_blank\">https://app.wandb.ai/sayakpaul/evonorm-tf2</a><br/>\n",
              "                Sweep page: <a href=\"https://app.wandb.ai/sayakpaul/evonorm-tf2/sweeps/5aefityj\" target=\"_blank\">https://app.wandb.ai/sayakpaul/evonorm-tf2/sweeps/5aefityj</a><br/>\n",
              "Run page: <a href=\"https://app.wandb.ai/sayakpaul/evonorm-tf2/runs/pq216vza\" target=\"_blank\">https://app.wandb.ai/sayakpaul/evonorm-tf2/runs/pq216vza</a><br/>\n",
              "            "
            ],
            "text/plain": [
              "<IPython.core.display.HTML object>"
            ]
          },
          "metadata": {
            "tags": []
          }
        },
        {
          "output_type": "stream",
          "text": [
            "Epoch 1/10\n",
            "391/391 [==============================] - ETA: 0s - loss: 2.1065 - accuracy: 0.2192"
          ],
          "name": "stdout"
        },
        {
          "output_type": "stream",
          "text": [
            "\u001b[34m\u001b[1mwandb\u001b[0m: \u001b[32m\u001b[41mERROR\u001b[0m Can't save model, h5py returned error: Layer EvoNorm2dS0 has arguments in `__init__` and therefore must override `get_config`.\n"
          ],
          "name": "stderr"
        },
        {
          "output_type": "stream",
          "text": [
            "\b\b\b\b\b\b\b\b\b\b\b\b\b\b\b\b\b\b\b\b\b\b\b\b\b\b\b\b\b\b\b\b\b\b\b\b\b\b\b\b\b\b\b\b\b\b\b\b\b\b\b\b\b\b\b\b\b\b\b\b\b\b\b\b\b\b\b\b\b\b\b\b\b\b\b\b\b\b\b\b\b\b\b\b\r391/391 [==============================] - 16s 40ms/step - loss: 2.1065 - accuracy: 0.2192 - val_loss: 1.9387 - val_accuracy: 0.2907\n",
            "Epoch 2/10\n",
            "391/391 [==============================] - 15s 38ms/step - loss: 1.9247 - accuracy: 0.2828 - val_loss: 1.8494 - val_accuracy: 0.3288\n",
            "Epoch 3/10\n",
            "391/391 [==============================] - 15s 38ms/step - loss: 1.8710 - accuracy: 0.3103 - val_loss: 1.8055 - val_accuracy: 0.3569\n",
            "Epoch 4/10\n",
            "391/391 [==============================] - 15s 38ms/step - loss: 1.8344 - accuracy: 0.3232 - val_loss: 1.7724 - val_accuracy: 0.3719\n",
            "Epoch 5/10\n",
            "391/391 [==============================] - 15s 38ms/step - loss: 1.8009 - accuracy: 0.3396 - val_loss: 1.7378 - val_accuracy: 0.3818\n",
            "Epoch 6/10\n",
            "391/391 [==============================] - 15s 38ms/step - loss: 1.7628 - accuracy: 0.3527 - val_loss: 1.7014 - val_accuracy: 0.3881\n",
            "Epoch 7/10\n",
            "391/391 [==============================] - 15s 38ms/step - loss: 1.7264 - accuracy: 0.3631 - val_loss: 1.6662 - val_accuracy: 0.3965\n",
            "Epoch 8/10\n",
            "391/391 [==============================] - 15s 38ms/step - loss: 1.7014 - accuracy: 0.3729 - val_loss: 1.6760 - val_accuracy: 0.3908\n",
            "Epoch 9/10\n",
            "391/391 [==============================] - 15s 38ms/step - loss: 1.6849 - accuracy: 0.3763 - val_loss: 1.6477 - val_accuracy: 0.4032\n",
            "Epoch 10/10\n",
            "391/391 [==============================] - 15s 38ms/step - loss: 1.6702 - accuracy: 0.3844 - val_loss: 1.6173 - val_accuracy: 0.4189\n",
            "wandb: Agent Finished Run: pq216vza \n",
            "\n",
            "wandb: Agent Starting Run: 383rhx7u with config:\n",
            "\tepochs: 10\n",
            "\tgroups: 4\n",
            "\tlearning_rate: 0.01\n",
            "\toptimizer: sgd\n",
            "wandb: Agent Started Run: 383rhx7u\n"
          ],
          "name": "stdout"
        },
        {
          "output_type": "display_data",
          "data": {
            "text/html": [
              "\n",
              "                Logging results to <a href=\"https://wandb.com\" target=\"_blank\">Weights & Biases</a> <a href=\"https://docs.wandb.com/integrations/jupyter.html\" target=\"_blank\">(Documentation)</a>.<br/>\n",
              "                Project page: <a href=\"https://app.wandb.ai/sayakpaul/evonorm-tf2\" target=\"_blank\">https://app.wandb.ai/sayakpaul/evonorm-tf2</a><br/>\n",
              "                Sweep page: <a href=\"https://app.wandb.ai/sayakpaul/evonorm-tf2/sweeps/5aefityj\" target=\"_blank\">https://app.wandb.ai/sayakpaul/evonorm-tf2/sweeps/5aefityj</a><br/>\n",
              "Run page: <a href=\"https://app.wandb.ai/sayakpaul/evonorm-tf2/runs/383rhx7u\" target=\"_blank\">https://app.wandb.ai/sayakpaul/evonorm-tf2/runs/383rhx7u</a><br/>\n",
              "            "
            ],
            "text/plain": [
              "<IPython.core.display.HTML object>"
            ]
          },
          "metadata": {
            "tags": []
          }
        },
        {
          "output_type": "stream",
          "text": [
            "Epoch 1/10\n",
            "391/391 [==============================] - 16s 40ms/step - loss: nan - accuracy: 0.1015 - val_loss: nan - val_accuracy: 0.1000\n",
            "Epoch 2/10\n",
            "391/391 [==============================] - 15s 38ms/step - loss: nan - accuracy: 0.1000 - val_loss: nan - val_accuracy: 0.1000\n",
            "Epoch 3/10\n",
            "391/391 [==============================] - 15s 38ms/step - loss: nan - accuracy: 0.1000 - val_loss: nan - val_accuracy: 0.1000\n",
            "Epoch 4/10\n",
            "391/391 [==============================] - 15s 38ms/step - loss: nan - accuracy: 0.1000 - val_loss: nan - val_accuracy: 0.1000\n",
            "Epoch 5/10\n",
            "391/391 [==============================] - 15s 38ms/step - loss: nan - accuracy: 0.1000 - val_loss: nan - val_accuracy: 0.1000\n",
            "Epoch 6/10\n",
            "391/391 [==============================] - 15s 38ms/step - loss: nan - accuracy: 0.1000 - val_loss: nan - val_accuracy: 0.1000\n",
            "Epoch 7/10\n",
            "391/391 [==============================] - 15s 38ms/step - loss: nan - accuracy: 0.1000 - val_loss: nan - val_accuracy: 0.1000\n",
            "Epoch 8/10\n",
            "391/391 [==============================] - 15s 38ms/step - loss: nan - accuracy: 0.1000 - val_loss: nan - val_accuracy: 0.1000\n",
            "Epoch 9/10\n",
            "391/391 [==============================] - 15s 38ms/step - loss: nan - accuracy: 0.1000 - val_loss: nan - val_accuracy: 0.1000\n",
            "Epoch 10/10\n",
            "391/391 [==============================] - 15s 38ms/step - loss: nan - accuracy: 0.1000 - val_loss: nan - val_accuracy: 0.1000\n",
            "wandb: Agent Finished Run: 383rhx7u \n",
            "\n",
            "wandb: Agent Starting Run: lzg0lhco with config:\n",
            "\tepochs: 30\n",
            "\tgroups: 4\n",
            "\tlearning_rate: 0.001\n",
            "\toptimizer: adam\n",
            "wandb: Agent Started Run: lzg0lhco\n"
          ],
          "name": "stdout"
        },
        {
          "output_type": "display_data",
          "data": {
            "text/html": [
              "\n",
              "                Logging results to <a href=\"https://wandb.com\" target=\"_blank\">Weights & Biases</a> <a href=\"https://docs.wandb.com/integrations/jupyter.html\" target=\"_blank\">(Documentation)</a>.<br/>\n",
              "                Project page: <a href=\"https://app.wandb.ai/sayakpaul/evonorm-tf2\" target=\"_blank\">https://app.wandb.ai/sayakpaul/evonorm-tf2</a><br/>\n",
              "                Sweep page: <a href=\"https://app.wandb.ai/sayakpaul/evonorm-tf2/sweeps/5aefityj\" target=\"_blank\">https://app.wandb.ai/sayakpaul/evonorm-tf2/sweeps/5aefityj</a><br/>\n",
              "Run page: <a href=\"https://app.wandb.ai/sayakpaul/evonorm-tf2/runs/lzg0lhco\" target=\"_blank\">https://app.wandb.ai/sayakpaul/evonorm-tf2/runs/lzg0lhco</a><br/>\n",
              "            "
            ],
            "text/plain": [
              "<IPython.core.display.HTML object>"
            ]
          },
          "metadata": {
            "tags": []
          }
        },
        {
          "output_type": "stream",
          "text": [
            "Epoch 1/30\n",
            "391/391 [==============================] - ETA: 0s - loss: 1.8605 - accuracy: 0.3685"
          ],
          "name": "stdout"
        },
        {
          "output_type": "stream",
          "text": [
            "\u001b[34m\u001b[1mwandb\u001b[0m: \u001b[32m\u001b[41mERROR\u001b[0m Can't save model, h5py returned error: Layer EvoNorm2dS0 has arguments in `__init__` and therefore must override `get_config`.\n"
          ],
          "name": "stderr"
        },
        {
          "output_type": "stream",
          "text": [
            "\b\b\b\b\b\b\b\b\b\b\b\b\b\b\b\b\b\b\b\b\b\b\b\b\b\b\b\b\b\b\b\b\b\b\b\b\b\b\b\b\b\b\b\b\b\b\b\b\b\b\b\b\b\b\b\b\b\b\b\b\b\b\b\b\b\b\b\b\b\b\b\b\b\b\b\b\b\b\b\b\b\b\b\b\r391/391 [==============================] - 16s 41ms/step - loss: 1.8605 - accuracy: 0.3685 - val_loss: 1.3398 - val_accuracy: 0.5249\n",
            "Epoch 2/30\n",
            "391/391 [==============================] - 16s 40ms/step - loss: 1.2644 - accuracy: 0.5554 - val_loss: 1.1875 - val_accuracy: 0.5858\n",
            "Epoch 3/30\n",
            "391/391 [==============================] - 15s 40ms/step - loss: 1.1063 - accuracy: 0.6160 - val_loss: 1.1251 - val_accuracy: 0.6063\n",
            "Epoch 4/30\n",
            "391/391 [==============================] - 15s 40ms/step - loss: 1.0158 - accuracy: 0.6483 - val_loss: 1.0219 - val_accuracy: 0.6354\n",
            "Epoch 5/30\n",
            "391/391 [==============================] - 15s 40ms/step - loss: 0.9543 - accuracy: 0.6735 - val_loss: 0.8910 - val_accuracy: 0.6900\n",
            "Epoch 6/30\n",
            "391/391 [==============================] - 15s 39ms/step - loss: 0.9007 - accuracy: 0.6910 - val_loss: 0.8641 - val_accuracy: 0.6965\n",
            "Epoch 7/30\n",
            "391/391 [==============================] - 15s 40ms/step - loss: 0.8598 - accuracy: 0.7068 - val_loss: 0.9257 - val_accuracy: 0.6828\n",
            "Epoch 8/30\n",
            "391/391 [==============================] - 15s 40ms/step - loss: 0.8249 - accuracy: 0.7184 - val_loss: 0.8549 - val_accuracy: 0.7136\n",
            "Epoch 9/30\n",
            "391/391 [==============================] - 15s 39ms/step - loss: 0.7917 - accuracy: 0.7320 - val_loss: 0.7666 - val_accuracy: 0.7423\n",
            "Epoch 10/30\n",
            "391/391 [==============================] - 15s 39ms/step - loss: 0.7601 - accuracy: 0.7408 - val_loss: 0.8710 - val_accuracy: 0.7049\n",
            "Epoch 11/30\n",
            "391/391 [==============================] - 15s 39ms/step - loss: 0.7514 - accuracy: 0.7444 - val_loss: 0.8322 - val_accuracy: 0.7123\n",
            "Epoch 12/30\n",
            "391/391 [==============================] - 15s 39ms/step - loss: 0.7242 - accuracy: 0.7529 - val_loss: 0.7951 - val_accuracy: 0.7363\n",
            "Epoch 13/30\n",
            "391/391 [==============================] - 16s 40ms/step - loss: 0.7051 - accuracy: 0.7596 - val_loss: 0.7234 - val_accuracy: 0.7510\n",
            "Epoch 14/30\n",
            "391/391 [==============================] - 15s 40ms/step - loss: 0.6831 - accuracy: 0.7676 - val_loss: 0.7842 - val_accuracy: 0.7332\n",
            "Epoch 15/30\n",
            "391/391 [==============================] - 15s 40ms/step - loss: 0.6583 - accuracy: 0.7740 - val_loss: 0.8975 - val_accuracy: 0.7067\n",
            "Epoch 16/30\n",
            "391/391 [==============================] - 15s 39ms/step - loss: 0.6485 - accuracy: 0.7770 - val_loss: 0.7669 - val_accuracy: 0.7446\n",
            "Epoch 17/30\n",
            "391/391 [==============================] - 15s 39ms/step - loss: 0.6235 - accuracy: 0.7876 - val_loss: 0.7734 - val_accuracy: 0.7485\n",
            "Epoch 18/30\n",
            "391/391 [==============================] - 15s 39ms/step - loss: 0.6162 - accuracy: 0.7867 - val_loss: 0.7535 - val_accuracy: 0.7486\n",
            "Epoch 19/30\n",
            "391/391 [==============================] - 15s 40ms/step - loss: 0.5994 - accuracy: 0.7958 - val_loss: 0.7671 - val_accuracy: 0.7506\n",
            "Epoch 20/30\n",
            "391/391 [==============================] - 15s 39ms/step - loss: 0.5823 - accuracy: 0.7995 - val_loss: 0.7851 - val_accuracy: 0.7411\n",
            "Epoch 21/30\n",
            "391/391 [==============================] - 15s 39ms/step - loss: 0.5681 - accuracy: 0.8046 - val_loss: 0.8257 - val_accuracy: 0.7337\n",
            "Epoch 22/30\n",
            "391/391 [==============================] - 15s 39ms/step - loss: 0.5485 - accuracy: 0.8110 - val_loss: 0.9821 - val_accuracy: 0.7074\n",
            "Epoch 23/30\n",
            "391/391 [==============================] - 15s 40ms/step - loss: 0.5401 - accuracy: 0.8121 - val_loss: 0.7656 - val_accuracy: 0.7546\n",
            "Epoch 24/30\n",
            "391/391 [==============================] - 15s 40ms/step - loss: 0.5238 - accuracy: 0.8183 - val_loss: 0.9184 - val_accuracy: 0.7212\n",
            "Epoch 25/30\n",
            "391/391 [==============================] - 15s 39ms/step - loss: 0.5192 - accuracy: 0.8216 - val_loss: 0.8124 - val_accuracy: 0.7477\n",
            "Epoch 26/30\n",
            "391/391 [==============================] - 15s 39ms/step - loss: 0.5022 - accuracy: 0.8283 - val_loss: 0.8311 - val_accuracy: 0.7508\n",
            "Epoch 27/30\n",
            "391/391 [==============================] - 15s 39ms/step - loss: 0.4855 - accuracy: 0.8313 - val_loss: 0.8577 - val_accuracy: 0.7476\n",
            "Epoch 28/30\n",
            "391/391 [==============================] - 15s 40ms/step - loss: 0.4794 - accuracy: 0.8350 - val_loss: 0.9200 - val_accuracy: 0.7226\n",
            "Epoch 29/30\n",
            "391/391 [==============================] - 15s 39ms/step - loss: 0.4743 - accuracy: 0.8368 - val_loss: 0.7925 - val_accuracy: 0.7586\n",
            "Epoch 30/30\n",
            "391/391 [==============================] - 15s 39ms/step - loss: 0.4633 - accuracy: 0.8403 - val_loss: 0.9320 - val_accuracy: 0.7349\n",
            "wandb: Agent Finished Run: lzg0lhco \n",
            "\n",
            "wandb: Agent Starting Run: gp2dgent with config:\n",
            "\tepochs: 20\n",
            "\tgroups: 8\n",
            "\tlearning_rate: 0.001\n",
            "\toptimizer: sgd\n",
            "wandb: Agent Started Run: gp2dgent\n"
          ],
          "name": "stdout"
        },
        {
          "output_type": "display_data",
          "data": {
            "text/html": [
              "\n",
              "                Logging results to <a href=\"https://wandb.com\" target=\"_blank\">Weights & Biases</a> <a href=\"https://docs.wandb.com/integrations/jupyter.html\" target=\"_blank\">(Documentation)</a>.<br/>\n",
              "                Project page: <a href=\"https://app.wandb.ai/sayakpaul/evonorm-tf2\" target=\"_blank\">https://app.wandb.ai/sayakpaul/evonorm-tf2</a><br/>\n",
              "                Sweep page: <a href=\"https://app.wandb.ai/sayakpaul/evonorm-tf2/sweeps/5aefityj\" target=\"_blank\">https://app.wandb.ai/sayakpaul/evonorm-tf2/sweeps/5aefityj</a><br/>\n",
              "Run page: <a href=\"https://app.wandb.ai/sayakpaul/evonorm-tf2/runs/gp2dgent\" target=\"_blank\">https://app.wandb.ai/sayakpaul/evonorm-tf2/runs/gp2dgent</a><br/>\n",
              "            "
            ],
            "text/plain": [
              "<IPython.core.display.HTML object>"
            ]
          },
          "metadata": {
            "tags": []
          }
        },
        {
          "output_type": "stream",
          "text": [
            "Epoch 1/20\n",
            "391/391 [==============================] - ETA: 0s - loss: 1.9846 - accuracy: 0.2622"
          ],
          "name": "stdout"
        },
        {
          "output_type": "stream",
          "text": [
            "\u001b[34m\u001b[1mwandb\u001b[0m: \u001b[32m\u001b[41mERROR\u001b[0m Can't save model, h5py returned error: Layer EvoNorm2dS0 has arguments in `__init__` and therefore must override `get_config`.\n"
          ],
          "name": "stderr"
        },
        {
          "output_type": "stream",
          "text": [
            "\b\b\b\b\b\b\b\b\b\b\b\b\b\b\b\b\b\b\b\b\b\b\b\b\b\b\b\b\b\b\b\b\b\b\b\b\b\b\b\b\b\b\b\b\b\b\b\b\b\b\b\b\b\b\b\b\b\b\b\b\b\b\b\b\b\b\b\b\b\b\b\b\b\b\b\b\b\b\b\b\b\b\b\b\r391/391 [==============================] - 16s 40ms/step - loss: 1.9846 - accuracy: 0.2622 - val_loss: 1.8160 - val_accuracy: 0.3418\n",
            "Epoch 2/20\n",
            "391/391 [==============================] - 15s 39ms/step - loss: 1.7219 - accuracy: 0.3600 - val_loss: 1.6742 - val_accuracy: 0.3995\n",
            "Epoch 3/20\n",
            "391/391 [==============================] - 15s 38ms/step - loss: 1.6113 - accuracy: 0.4133 - val_loss: 1.5198 - val_accuracy: 0.4571\n",
            "Epoch 4/20\n",
            "391/391 [==============================] - 15s 38ms/step - loss: 1.5367 - accuracy: 0.4426 - val_loss: 1.4717 - val_accuracy: 0.4694\n",
            "Epoch 5/20\n",
            "391/391 [==============================] - 15s 38ms/step - loss: 1.4797 - accuracy: 0.4684 - val_loss: 1.4104 - val_accuracy: 0.4980\n",
            "Epoch 6/20\n",
            "391/391 [==============================] - 15s 38ms/step - loss: 1.4245 - accuracy: 0.4920 - val_loss: 1.3710 - val_accuracy: 0.5183\n",
            "Epoch 7/20\n",
            "391/391 [==============================] - 15s 38ms/step - loss: 1.3786 - accuracy: 0.5092 - val_loss: 1.3283 - val_accuracy: 0.5413\n",
            "Epoch 8/20\n",
            "391/391 [==============================] - 15s 38ms/step - loss: 1.3375 - accuracy: 0.5267 - val_loss: 1.2943 - val_accuracy: 0.5479\n",
            "Epoch 9/20\n",
            "391/391 [==============================] - 15s 38ms/step - loss: 1.3045 - accuracy: 0.5414 - val_loss: 1.2558 - val_accuracy: 0.5615\n",
            "Epoch 10/20\n",
            "391/391 [==============================] - 15s 38ms/step - loss: 1.2737 - accuracy: 0.5537 - val_loss: 1.2269 - val_accuracy: 0.5754\n",
            "Epoch 11/20\n",
            "391/391 [==============================] - 15s 38ms/step - loss: 1.2510 - accuracy: 0.5605 - val_loss: 1.2112 - val_accuracy: 0.5814\n",
            "Epoch 12/20\n",
            "391/391 [==============================] - 15s 38ms/step - loss: 1.2263 - accuracy: 0.5720 - val_loss: 1.1872 - val_accuracy: 0.5937\n",
            "Epoch 13/20\n",
            "391/391 [==============================] - 15s 38ms/step - loss: 1.2019 - accuracy: 0.5798 - val_loss: 1.1820 - val_accuracy: 0.5874\n",
            "Epoch 14/20\n",
            "391/391 [==============================] - 15s 38ms/step - loss: 1.1842 - accuracy: 0.5874 - val_loss: 1.1663 - val_accuracy: 0.5946\n",
            "Epoch 15/20\n",
            "391/391 [==============================] - 15s 38ms/step - loss: 1.1713 - accuracy: 0.5931 - val_loss: 1.1528 - val_accuracy: 0.5948\n",
            "Epoch 16/20\n",
            "391/391 [==============================] - 15s 38ms/step - loss: 1.1517 - accuracy: 0.5996 - val_loss: 1.1367 - val_accuracy: 0.6101\n",
            "Epoch 17/20\n",
            "391/391 [==============================] - 15s 38ms/step - loss: 1.1396 - accuracy: 0.6057 - val_loss: 1.1194 - val_accuracy: 0.6179\n",
            "Epoch 18/20\n",
            "391/391 [==============================] - 15s 38ms/step - loss: 1.1278 - accuracy: 0.6091 - val_loss: 1.1072 - val_accuracy: 0.6221\n",
            "Epoch 19/20\n",
            "391/391 [==============================] - 15s 38ms/step - loss: 1.1166 - accuracy: 0.6136 - val_loss: 1.0892 - val_accuracy: 0.6274\n",
            "Epoch 20/20\n",
            "391/391 [==============================] - 15s 38ms/step - loss: 1.1032 - accuracy: 0.6192 - val_loss: 1.0939 - val_accuracy: 0.6230\n",
            "wandb: Agent Finished Run: gp2dgent \n",
            "\n",
            "wandb: Agent Starting Run: tk1sjlks with config:\n",
            "\tepochs: 30\n",
            "\tgroups: 32\n",
            "\tlearning_rate: 0.001\n",
            "\toptimizer: adam\n",
            "wandb: Agent Started Run: tk1sjlks\n"
          ],
          "name": "stdout"
        },
        {
          "output_type": "display_data",
          "data": {
            "text/html": [
              "\n",
              "                Logging results to <a href=\"https://wandb.com\" target=\"_blank\">Weights & Biases</a> <a href=\"https://docs.wandb.com/integrations/jupyter.html\" target=\"_blank\">(Documentation)</a>.<br/>\n",
              "                Project page: <a href=\"https://app.wandb.ai/sayakpaul/evonorm-tf2\" target=\"_blank\">https://app.wandb.ai/sayakpaul/evonorm-tf2</a><br/>\n",
              "                Sweep page: <a href=\"https://app.wandb.ai/sayakpaul/evonorm-tf2/sweeps/5aefityj\" target=\"_blank\">https://app.wandb.ai/sayakpaul/evonorm-tf2/sweeps/5aefityj</a><br/>\n",
              "Run page: <a href=\"https://app.wandb.ai/sayakpaul/evonorm-tf2/runs/tk1sjlks\" target=\"_blank\">https://app.wandb.ai/sayakpaul/evonorm-tf2/runs/tk1sjlks</a><br/>\n",
              "            "
            ],
            "text/plain": [
              "<IPython.core.display.HTML object>"
            ]
          },
          "metadata": {
            "tags": []
          }
        },
        {
          "output_type": "stream",
          "text": [
            "Epoch 1/30\n",
            "391/391 [==============================] - ETA: 0s - loss: 1.8608 - accuracy: 0.3661"
          ],
          "name": "stdout"
        },
        {
          "output_type": "stream",
          "text": [
            "\u001b[34m\u001b[1mwandb\u001b[0m: \u001b[32m\u001b[41mERROR\u001b[0m Can't save model, h5py returned error: Layer EvoNorm2dS0 has arguments in `__init__` and therefore must override `get_config`.\n"
          ],
          "name": "stderr"
        },
        {
          "output_type": "stream",
          "text": [
            "\b\b\b\b\b\b\b\b\b\b\b\b\b\b\b\b\b\b\b\b\b\b\b\b\b\b\b\b\b\b\b\b\b\b\b\b\b\b\b\b\b\b\b\b\b\b\b\b\b\b\b\b\b\b\b\b\b\b\b\b\b\b\b\b\b\b\b\b\b\b\b\b\b\b\b\b\b\b\b\b\b\b\b\b\r391/391 [==============================] - 16s 41ms/step - loss: 1.8608 - accuracy: 0.3661 - val_loss: 1.4100 - val_accuracy: 0.4696\n",
            "Epoch 2/30\n",
            "391/391 [==============================] - 16s 40ms/step - loss: 1.2768 - accuracy: 0.5501 - val_loss: 1.1807 - val_accuracy: 0.5901\n",
            "Epoch 3/30\n",
            "391/391 [==============================] - 15s 39ms/step - loss: 1.1051 - accuracy: 0.6170 - val_loss: 1.0200 - val_accuracy: 0.6426\n",
            "Epoch 4/30\n",
            "391/391 [==============================] - 15s 39ms/step - loss: 1.0164 - accuracy: 0.6491 - val_loss: 1.0857 - val_accuracy: 0.6041\n",
            "Epoch 5/30\n",
            "391/391 [==============================] - 15s 39ms/step - loss: 0.9545 - accuracy: 0.6750 - val_loss: 0.9154 - val_accuracy: 0.6826\n",
            "Epoch 6/30\n",
            "391/391 [==============================] - 15s 39ms/step - loss: 0.9057 - accuracy: 0.6890 - val_loss: 0.8707 - val_accuracy: 0.6989\n",
            "Epoch 7/30\n",
            "391/391 [==============================] - 15s 40ms/step - loss: 0.8630 - accuracy: 0.7029 - val_loss: 0.9147 - val_accuracy: 0.6952\n",
            "Epoch 8/30\n",
            "391/391 [==============================] - 15s 39ms/step - loss: 0.8260 - accuracy: 0.7170 - val_loss: 0.8415 - val_accuracy: 0.7118\n",
            "Epoch 9/30\n",
            "391/391 [==============================] - 15s 39ms/step - loss: 0.7902 - accuracy: 0.7320 - val_loss: 0.8821 - val_accuracy: 0.7017\n",
            "Epoch 10/30\n",
            "391/391 [==============================] - 15s 39ms/step - loss: 0.7630 - accuracy: 0.7398 - val_loss: 0.8775 - val_accuracy: 0.7096\n",
            "Epoch 11/30\n",
            "391/391 [==============================] - 15s 39ms/step - loss: 0.7477 - accuracy: 0.7440 - val_loss: 0.8306 - val_accuracy: 0.7154\n",
            "Epoch 12/30\n",
            "391/391 [==============================] - 15s 40ms/step - loss: 0.7202 - accuracy: 0.7547 - val_loss: 0.8014 - val_accuracy: 0.7256\n",
            "Epoch 13/30\n",
            "391/391 [==============================] - 15s 40ms/step - loss: 0.6980 - accuracy: 0.7606 - val_loss: 0.7537 - val_accuracy: 0.7452\n",
            "Epoch 14/30\n",
            "391/391 [==============================] - 15s 40ms/step - loss: 0.6743 - accuracy: 0.7715 - val_loss: 0.8891 - val_accuracy: 0.7014\n",
            "Epoch 15/30\n",
            "391/391 [==============================] - 15s 39ms/step - loss: 0.6592 - accuracy: 0.7736 - val_loss: 0.8486 - val_accuracy: 0.7277\n",
            "Epoch 16/30\n",
            "391/391 [==============================] - 15s 39ms/step - loss: 0.6448 - accuracy: 0.7785 - val_loss: 0.8135 - val_accuracy: 0.7352\n",
            "Epoch 17/30\n",
            "391/391 [==============================] - 15s 39ms/step - loss: 0.6214 - accuracy: 0.7865 - val_loss: 0.7505 - val_accuracy: 0.7547\n",
            "Epoch 18/30\n",
            "391/391 [==============================] - 15s 40ms/step - loss: 0.6137 - accuracy: 0.7887 - val_loss: 0.8723 - val_accuracy: 0.7168\n",
            "Epoch 19/30\n",
            "391/391 [==============================] - 15s 40ms/step - loss: 0.5972 - accuracy: 0.7934 - val_loss: 0.7763 - val_accuracy: 0.7503\n",
            "Epoch 20/30\n",
            "391/391 [==============================] - 15s 39ms/step - loss: 0.5778 - accuracy: 0.8028 - val_loss: 0.7023 - val_accuracy: 0.7679\n",
            "Epoch 21/30\n",
            "391/391 [==============================] - 15s 39ms/step - loss: 0.5685 - accuracy: 0.8058 - val_loss: 0.7552 - val_accuracy: 0.7558\n",
            "Epoch 22/30\n",
            "391/391 [==============================] - 16s 40ms/step - loss: 0.5510 - accuracy: 0.8071 - val_loss: 0.8320 - val_accuracy: 0.7368\n",
            "Epoch 23/30\n",
            "391/391 [==============================] - 15s 40ms/step - loss: 0.5386 - accuracy: 0.8141 - val_loss: 0.8311 - val_accuracy: 0.7413\n",
            "Epoch 24/30\n",
            "391/391 [==============================] - 15s 39ms/step - loss: 0.5105 - accuracy: 0.8258 - val_loss: 0.9034 - val_accuracy: 0.7199\n",
            "Epoch 25/30\n",
            "391/391 [==============================] - 15s 39ms/step - loss: 0.5152 - accuracy: 0.8233 - val_loss: 0.7474 - val_accuracy: 0.7638\n",
            "Epoch 26/30\n",
            "391/391 [==============================] - 15s 39ms/step - loss: 0.4903 - accuracy: 0.8316 - val_loss: 0.9706 - val_accuracy: 0.7289\n",
            "Epoch 27/30\n",
            "391/391 [==============================] - 15s 39ms/step - loss: 0.4939 - accuracy: 0.8284 - val_loss: 0.8401 - val_accuracy: 0.7541\n",
            "Epoch 28/30\n",
            "391/391 [==============================] - 15s 39ms/step - loss: 0.4733 - accuracy: 0.8368 - val_loss: 0.7620 - val_accuracy: 0.7642\n",
            "Epoch 29/30\n",
            "391/391 [==============================] - 15s 39ms/step - loss: 0.4595 - accuracy: 0.8380 - val_loss: 0.7781 - val_accuracy: 0.7588\n",
            "Epoch 30/30\n",
            "391/391 [==============================] - 15s 40ms/step - loss: 0.4609 - accuracy: 0.8417 - val_loss: 0.8660 - val_accuracy: 0.7310\n",
            "wandb: Agent Finished Run: tk1sjlks \n",
            "\n",
            "wandb: Agent Starting Run: o4mvp30n with config:\n",
            "\tepochs: 40\n",
            "\tgroups: 32\n",
            "\tlearning_rate: 1e-05\n",
            "\toptimizer: sgd\n",
            "wandb: Agent Started Run: o4mvp30n\n"
          ],
          "name": "stdout"
        },
        {
          "output_type": "display_data",
          "data": {
            "text/html": [
              "\n",
              "                Logging results to <a href=\"https://wandb.com\" target=\"_blank\">Weights & Biases</a> <a href=\"https://docs.wandb.com/integrations/jupyter.html\" target=\"_blank\">(Documentation)</a>.<br/>\n",
              "                Project page: <a href=\"https://app.wandb.ai/sayakpaul/evonorm-tf2\" target=\"_blank\">https://app.wandb.ai/sayakpaul/evonorm-tf2</a><br/>\n",
              "                Sweep page: <a href=\"https://app.wandb.ai/sayakpaul/evonorm-tf2/sweeps/5aefityj\" target=\"_blank\">https://app.wandb.ai/sayakpaul/evonorm-tf2/sweeps/5aefityj</a><br/>\n",
              "Run page: <a href=\"https://app.wandb.ai/sayakpaul/evonorm-tf2/runs/o4mvp30n\" target=\"_blank\">https://app.wandb.ai/sayakpaul/evonorm-tf2/runs/o4mvp30n</a><br/>\n",
              "            "
            ],
            "text/plain": [
              "<IPython.core.display.HTML object>"
            ]
          },
          "metadata": {
            "tags": []
          }
        },
        {
          "output_type": "stream",
          "text": [
            "Epoch 1/40\n",
            "391/391 [==============================] - ETA: 0s - loss: 2.3319 - accuracy: 0.1115"
          ],
          "name": "stdout"
        },
        {
          "output_type": "stream",
          "text": [
            "\u001b[34m\u001b[1mwandb\u001b[0m: \u001b[32m\u001b[41mERROR\u001b[0m Can't save model, h5py returned error: Layer EvoNorm2dS0 has arguments in `__init__` and therefore must override `get_config`.\n"
          ],
          "name": "stderr"
        },
        {
          "output_type": "stream",
          "text": [
            "\b\b\b\b\b\b\b\b\b\b\b\b\b\b\b\b\b\b\b\b\b\b\b\b\b\b\b\b\b\b\b\b\b\b\b\b\b\b\b\b\b\b\b\b\b\b\b\b\b\b\b\b\b\b\b\b\b\b\b\b\b\b\b\b\b\b\b\b\b\b\b\b\b\b\b\b\b\b\b\b\b\b\b\b\r391/391 [==============================] - 16s 40ms/step - loss: 2.3319 - accuracy: 0.1115 - val_loss: 2.2749 - val_accuracy: 0.1236\n",
            "Epoch 2/40\n",
            "391/391 [==============================] - 15s 38ms/step - loss: 2.2938 - accuracy: 0.1256 - val_loss: 2.2616 - val_accuracy: 0.1465\n",
            "Epoch 3/40\n",
            "391/391 [==============================] - 15s 38ms/step - loss: 2.2724 - accuracy: 0.1424 - val_loss: 2.2489 - val_accuracy: 0.1602\n",
            "Epoch 4/40\n",
            "391/391 [==============================] - 15s 38ms/step - loss: 2.2569 - accuracy: 0.1559 - val_loss: 2.2364 - val_accuracy: 0.1735\n",
            "Epoch 5/40\n",
            "391/391 [==============================] - 15s 38ms/step - loss: 2.2434 - accuracy: 0.1670 - val_loss: 2.2235 - val_accuracy: 0.1817\n",
            "Epoch 6/40\n",
            "391/391 [==============================] - 15s 38ms/step - loss: 2.2290 - accuracy: 0.1762 - val_loss: 2.2101 - val_accuracy: 0.1940\n",
            "Epoch 7/40\n",
            "391/391 [==============================] - 15s 38ms/step - loss: 2.2165 - accuracy: 0.1842 - val_loss: 2.1962 - val_accuracy: 0.2095\n",
            "Epoch 8/40\n",
            "391/391 [==============================] - 15s 38ms/step - loss: 2.2031 - accuracy: 0.1896 - val_loss: 2.1820 - val_accuracy: 0.2184\n",
            "Epoch 9/40\n",
            "391/391 [==============================] - 15s 38ms/step - loss: 2.1876 - accuracy: 0.1972 - val_loss: 2.1677 - val_accuracy: 0.2277\n",
            "Epoch 10/40\n",
            "391/391 [==============================] - 15s 38ms/step - loss: 2.1753 - accuracy: 0.1997 - val_loss: 2.1535 - val_accuracy: 0.2363\n",
            "Epoch 11/40\n",
            "391/391 [==============================] - 15s 39ms/step - loss: 2.1600 - accuracy: 0.2098 - val_loss: 2.1394 - val_accuracy: 0.2404\n",
            "Epoch 12/40\n",
            "391/391 [==============================] - 15s 39ms/step - loss: 2.1489 - accuracy: 0.2101 - val_loss: 2.1262 - val_accuracy: 0.2471\n",
            "Epoch 13/40\n",
            "391/391 [==============================] - 15s 38ms/step - loss: 2.1363 - accuracy: 0.2125 - val_loss: 2.1139 - val_accuracy: 0.2533\n",
            "Epoch 14/40\n",
            "391/391 [==============================] - 15s 38ms/step - loss: 2.1261 - accuracy: 0.2169 - val_loss: 2.1027 - val_accuracy: 0.2560\n",
            "Epoch 15/40\n",
            "391/391 [==============================] - 15s 38ms/step - loss: 2.1167 - accuracy: 0.2173 - val_loss: 2.0924 - val_accuracy: 0.2585\n",
            "Epoch 16/40\n",
            "391/391 [==============================] - 15s 38ms/step - loss: 2.1075 - accuracy: 0.2213 - val_loss: 2.0832 - val_accuracy: 0.2578\n",
            "Epoch 17/40\n",
            "391/391 [==============================] - 15s 38ms/step - loss: 2.0990 - accuracy: 0.2280 - val_loss: 2.0751 - val_accuracy: 0.2628\n",
            "Epoch 18/40\n",
            "391/391 [==============================] - 15s 38ms/step - loss: 2.0931 - accuracy: 0.2271 - val_loss: 2.0678 - val_accuracy: 0.2640\n",
            "Epoch 19/40\n",
            "391/391 [==============================] - 15s 38ms/step - loss: 2.0866 - accuracy: 0.2278 - val_loss: 2.0612 - val_accuracy: 0.2651\n",
            "Epoch 20/40\n",
            "391/391 [==============================] - 15s 38ms/step - loss: 2.0830 - accuracy: 0.2286 - val_loss: 2.0554 - val_accuracy: 0.2699\n",
            "Epoch 21/40\n",
            "391/391 [==============================] - 15s 38ms/step - loss: 2.0800 - accuracy: 0.2288 - val_loss: 2.0503 - val_accuracy: 0.2709\n",
            "Epoch 22/40\n",
            "391/391 [==============================] - 15s 38ms/step - loss: 2.0748 - accuracy: 0.2304 - val_loss: 2.0456 - val_accuracy: 0.2727\n",
            "Epoch 23/40\n",
            "391/391 [==============================] - 15s 38ms/step - loss: 2.0680 - accuracy: 0.2381 - val_loss: 2.0411 - val_accuracy: 0.2746\n",
            "Epoch 24/40\n",
            "391/391 [==============================] - 15s 38ms/step - loss: 2.0671 - accuracy: 0.2354 - val_loss: 2.0372 - val_accuracy: 0.2760\n",
            "Epoch 25/40\n",
            "391/391 [==============================] - 15s 38ms/step - loss: 2.0642 - accuracy: 0.2361 - val_loss: 2.0335 - val_accuracy: 0.2798\n",
            "Epoch 26/40\n",
            "391/391 [==============================] - 15s 38ms/step - loss: 2.0590 - accuracy: 0.2368 - val_loss: 2.0300 - val_accuracy: 0.2805\n",
            "Epoch 27/40\n",
            "391/391 [==============================] - 15s 39ms/step - loss: 2.0565 - accuracy: 0.2382 - val_loss: 2.0267 - val_accuracy: 0.2832\n",
            "Epoch 28/40\n",
            "391/391 [==============================] - 15s 39ms/step - loss: 2.0534 - accuracy: 0.2423 - val_loss: 2.0237 - val_accuracy: 0.2838\n",
            "Epoch 29/40\n",
            "391/391 [==============================] - 15s 39ms/step - loss: 2.0504 - accuracy: 0.2388 - val_loss: 2.0207 - val_accuracy: 0.2851\n",
            "Epoch 30/40\n",
            "391/391 [==============================] - 15s 39ms/step - loss: 2.0482 - accuracy: 0.2416 - val_loss: 2.0180 - val_accuracy: 0.2862\n",
            "Epoch 31/40\n",
            "391/391 [==============================] - 15s 39ms/step - loss: 2.0463 - accuracy: 0.2406 - val_loss: 2.0153 - val_accuracy: 0.2908\n",
            "Epoch 32/40\n",
            "391/391 [==============================] - 15s 39ms/step - loss: 2.0438 - accuracy: 0.2447 - val_loss: 2.0128 - val_accuracy: 0.2931\n",
            "Epoch 33/40\n",
            "391/391 [==============================] - 15s 38ms/step - loss: 2.0427 - accuracy: 0.2440 - val_loss: 2.0104 - val_accuracy: 0.2936\n",
            "Epoch 34/40\n",
            "391/391 [==============================] - 15s 38ms/step - loss: 2.0418 - accuracy: 0.2447 - val_loss: 2.0081 - val_accuracy: 0.2952\n",
            "Epoch 35/40\n",
            "391/391 [==============================] - 15s 38ms/step - loss: 2.0385 - accuracy: 0.2452 - val_loss: 2.0058 - val_accuracy: 0.2959\n",
            "Epoch 36/40\n",
            "391/391 [==============================] - 15s 38ms/step - loss: 2.0340 - accuracy: 0.2461 - val_loss: 2.0036 - val_accuracy: 0.2965\n",
            "Epoch 37/40\n",
            "391/391 [==============================] - 15s 38ms/step - loss: 2.0333 - accuracy: 0.2455 - val_loss: 2.0014 - val_accuracy: 0.2990\n",
            "Epoch 38/40\n",
            "391/391 [==============================] - 15s 38ms/step - loss: 2.0323 - accuracy: 0.2463 - val_loss: 1.9994 - val_accuracy: 0.3007\n",
            "Epoch 39/40\n",
            "391/391 [==============================] - 15s 38ms/step - loss: 2.0302 - accuracy: 0.2490 - val_loss: 1.9974 - val_accuracy: 0.3014\n",
            "Epoch 40/40\n",
            "391/391 [==============================] - 15s 38ms/step - loss: 2.0283 - accuracy: 0.2470 - val_loss: 1.9955 - val_accuracy: 0.3000\n",
            "wandb: Agent Finished Run: o4mvp30n \n",
            "\n",
            "wandb: Agent Starting Run: b7w0drwo with config:\n",
            "\tepochs: 40\n",
            "\tgroups: 16\n",
            "\tlearning_rate: 0.01\n",
            "\toptimizer: sgd\n",
            "wandb: Agent Started Run: b7w0drwo\n"
          ],
          "name": "stdout"
        },
        {
          "output_type": "display_data",
          "data": {
            "text/html": [
              "\n",
              "                Logging results to <a href=\"https://wandb.com\" target=\"_blank\">Weights & Biases</a> <a href=\"https://docs.wandb.com/integrations/jupyter.html\" target=\"_blank\">(Documentation)</a>.<br/>\n",
              "                Project page: <a href=\"https://app.wandb.ai/sayakpaul/evonorm-tf2\" target=\"_blank\">https://app.wandb.ai/sayakpaul/evonorm-tf2</a><br/>\n",
              "                Sweep page: <a href=\"https://app.wandb.ai/sayakpaul/evonorm-tf2/sweeps/5aefityj\" target=\"_blank\">https://app.wandb.ai/sayakpaul/evonorm-tf2/sweeps/5aefityj</a><br/>\n",
              "Run page: <a href=\"https://app.wandb.ai/sayakpaul/evonorm-tf2/runs/b7w0drwo\" target=\"_blank\">https://app.wandb.ai/sayakpaul/evonorm-tf2/runs/b7w0drwo</a><br/>\n",
              "            "
            ],
            "text/plain": [
              "<IPython.core.display.HTML object>"
            ]
          },
          "metadata": {
            "tags": []
          }
        },
        {
          "output_type": "stream",
          "text": [
            "Epoch 1/40\n",
            "391/391 [==============================] - 16s 40ms/step - loss: nan - accuracy: 0.1015 - val_loss: nan - val_accuracy: 0.1000\n",
            "Epoch 2/40\n",
            "391/391 [==============================] - 15s 38ms/step - loss: nan - accuracy: 0.1000 - val_loss: nan - val_accuracy: 0.1000\n",
            "Epoch 3/40\n",
            "391/391 [==============================] - 15s 38ms/step - loss: nan - accuracy: 0.1000 - val_loss: nan - val_accuracy: 0.1000\n",
            "Epoch 4/40\n",
            "391/391 [==============================] - 15s 38ms/step - loss: nan - accuracy: 0.1000 - val_loss: nan - val_accuracy: 0.1000\n",
            "Epoch 5/40\n",
            "391/391 [==============================] - 15s 38ms/step - loss: nan - accuracy: 0.1000 - val_loss: nan - val_accuracy: 0.1000\n",
            "Epoch 6/40\n",
            "391/391 [==============================] - 15s 38ms/step - loss: nan - accuracy: 0.1000 - val_loss: nan - val_accuracy: 0.1000\n",
            "Epoch 7/40\n",
            "391/391 [==============================] - 15s 38ms/step - loss: nan - accuracy: 0.1000 - val_loss: nan - val_accuracy: 0.1000\n",
            "Epoch 8/40\n",
            "391/391 [==============================] - 15s 38ms/step - loss: nan - accuracy: 0.1000 - val_loss: nan - val_accuracy: 0.1000\n",
            "Epoch 9/40\n",
            "391/391 [==============================] - 15s 38ms/step - loss: nan - accuracy: 0.1000 - val_loss: nan - val_accuracy: 0.1000\n",
            "Epoch 10/40\n",
            "391/391 [==============================] - 15s 38ms/step - loss: nan - accuracy: 0.1000 - val_loss: nan - val_accuracy: 0.1000\n",
            "Epoch 11/40\n",
            "391/391 [==============================] - 15s 38ms/step - loss: nan - accuracy: 0.1000 - val_loss: nan - val_accuracy: 0.1000\n",
            "Epoch 12/40\n",
            "391/391 [==============================] - 15s 39ms/step - loss: nan - accuracy: 0.1000 - val_loss: nan - val_accuracy: 0.1000\n",
            "Epoch 13/40\n",
            "391/391 [==============================] - 15s 38ms/step - loss: nan - accuracy: 0.1000 - val_loss: nan - val_accuracy: 0.1000\n",
            "Epoch 14/40\n",
            "391/391 [==============================] - 15s 38ms/step - loss: nan - accuracy: 0.1000 - val_loss: nan - val_accuracy: 0.1000\n",
            "Epoch 15/40\n",
            "391/391 [==============================] - 15s 38ms/step - loss: nan - accuracy: 0.1000 - val_loss: nan - val_accuracy: 0.1000\n",
            "Epoch 16/40\n",
            "391/391 [==============================] - 15s 39ms/step - loss: nan - accuracy: 0.1000 - val_loss: nan - val_accuracy: 0.1000\n",
            "Epoch 17/40\n",
            "391/391 [==============================] - 15s 39ms/step - loss: nan - accuracy: 0.1000 - val_loss: nan - val_accuracy: 0.1000\n",
            "Epoch 18/40\n",
            "391/391 [==============================] - 15s 39ms/step - loss: nan - accuracy: 0.1000 - val_loss: nan - val_accuracy: 0.1000\n",
            "Epoch 19/40\n",
            "391/391 [==============================] - 15s 39ms/step - loss: nan - accuracy: 0.1000 - val_loss: nan - val_accuracy: 0.1000\n",
            "Epoch 20/40\n",
            "391/391 [==============================] - 15s 39ms/step - loss: nan - accuracy: 0.1000 - val_loss: nan - val_accuracy: 0.1000\n",
            "Epoch 21/40\n",
            "391/391 [==============================] - 15s 39ms/step - loss: nan - accuracy: 0.1000 - val_loss: nan - val_accuracy: 0.1000\n",
            "Epoch 22/40\n",
            "391/391 [==============================] - 15s 39ms/step - loss: nan - accuracy: 0.1000 - val_loss: nan - val_accuracy: 0.1000\n",
            "Epoch 23/40\n",
            "391/391 [==============================] - 15s 39ms/step - loss: nan - accuracy: 0.1000 - val_loss: nan - val_accuracy: 0.1000\n",
            "Epoch 24/40\n",
            "391/391 [==============================] - 15s 39ms/step - loss: nan - accuracy: 0.1000 - val_loss: nan - val_accuracy: 0.1000\n",
            "Epoch 25/40\n",
            "391/391 [==============================] - 15s 39ms/step - loss: nan - accuracy: 0.1000 - val_loss: nan - val_accuracy: 0.1000\n",
            "Epoch 26/40\n",
            "391/391 [==============================] - 15s 39ms/step - loss: nan - accuracy: 0.1000 - val_loss: nan - val_accuracy: 0.1000\n",
            "Epoch 27/40\n",
            "391/391 [==============================] - 15s 39ms/step - loss: nan - accuracy: 0.1000 - val_loss: nan - val_accuracy: 0.1000\n",
            "Epoch 28/40\n",
            "391/391 [==============================] - 15s 39ms/step - loss: nan - accuracy: 0.1000 - val_loss: nan - val_accuracy: 0.1000\n",
            "Epoch 29/40\n",
            "391/391 [==============================] - 15s 39ms/step - loss: nan - accuracy: 0.1000 - val_loss: nan - val_accuracy: 0.1000\n",
            "Epoch 30/40\n",
            "391/391 [==============================] - 15s 39ms/step - loss: nan - accuracy: 0.1000 - val_loss: nan - val_accuracy: 0.1000\n",
            "Epoch 31/40\n",
            "391/391 [==============================] - 15s 39ms/step - loss: nan - accuracy: 0.1000 - val_loss: nan - val_accuracy: 0.1000\n",
            "Epoch 32/40\n",
            "391/391 [==============================] - 15s 39ms/step - loss: nan - accuracy: 0.1000 - val_loss: nan - val_accuracy: 0.1000\n",
            "Epoch 33/40\n",
            "391/391 [==============================] - 16s 40ms/step - loss: nan - accuracy: 0.1000 - val_loss: nan - val_accuracy: 0.1000\n",
            "Epoch 34/40\n",
            "391/391 [==============================] - 15s 39ms/step - loss: nan - accuracy: 0.1000 - val_loss: nan - val_accuracy: 0.1000\n",
            "Epoch 35/40\n",
            "391/391 [==============================] - 15s 39ms/step - loss: nan - accuracy: 0.1000 - val_loss: nan - val_accuracy: 0.1000\n",
            "Epoch 36/40\n",
            "391/391 [==============================] - 15s 40ms/step - loss: nan - accuracy: 0.1000 - val_loss: nan - val_accuracy: 0.1000\n",
            "Epoch 37/40\n",
            "391/391 [==============================] - 15s 39ms/step - loss: nan - accuracy: 0.1000 - val_loss: nan - val_accuracy: 0.1000\n",
            "Epoch 38/40\n",
            "391/391 [==============================] - 15s 40ms/step - loss: nan - accuracy: 0.1000 - val_loss: nan - val_accuracy: 0.1000\n",
            "Epoch 39/40\n",
            "391/391 [==============================] - 15s 39ms/step - loss: nan - accuracy: 0.1000 - val_loss: nan - val_accuracy: 0.1000\n",
            "Epoch 40/40\n",
            "391/391 [==============================] - 15s 39ms/step - loss: nan - accuracy: 0.1000 - val_loss: nan - val_accuracy: 0.1000\n",
            "wandb: Agent Finished Run: b7w0drwo \n",
            "\n",
            "wandb: Agent Starting Run: ze75ntza with config:\n",
            "\tepochs: 10\n",
            "\tgroups: 4\n",
            "\tlearning_rate: 3e-05\n",
            "\toptimizer: sgd\n",
            "wandb: Agent Started Run: ze75ntza\n"
          ],
          "name": "stdout"
        },
        {
          "output_type": "display_data",
          "data": {
            "text/html": [
              "\n",
              "                Logging results to <a href=\"https://wandb.com\" target=\"_blank\">Weights & Biases</a> <a href=\"https://docs.wandb.com/integrations/jupyter.html\" target=\"_blank\">(Documentation)</a>.<br/>\n",
              "                Project page: <a href=\"https://app.wandb.ai/sayakpaul/evonorm-tf2\" target=\"_blank\">https://app.wandb.ai/sayakpaul/evonorm-tf2</a><br/>\n",
              "                Sweep page: <a href=\"https://app.wandb.ai/sayakpaul/evonorm-tf2/sweeps/5aefityj\" target=\"_blank\">https://app.wandb.ai/sayakpaul/evonorm-tf2/sweeps/5aefityj</a><br/>\n",
              "Run page: <a href=\"https://app.wandb.ai/sayakpaul/evonorm-tf2/runs/ze75ntza\" target=\"_blank\">https://app.wandb.ai/sayakpaul/evonorm-tf2/runs/ze75ntza</a><br/>\n",
              "            "
            ],
            "text/plain": [
              "<IPython.core.display.HTML object>"
            ]
          },
          "metadata": {
            "tags": []
          }
        },
        {
          "output_type": "stream",
          "text": [
            "Epoch 1/10\n",
            "391/391 [==============================] - ETA: 0s - loss: 2.3017 - accuracy: 0.1253"
          ],
          "name": "stdout"
        },
        {
          "output_type": "stream",
          "text": [
            "\u001b[34m\u001b[1mwandb\u001b[0m: \u001b[32m\u001b[41mERROR\u001b[0m Can't save model, h5py returned error: Layer EvoNorm2dS0 has arguments in `__init__` and therefore must override `get_config`.\n"
          ],
          "name": "stderr"
        },
        {
          "output_type": "stream",
          "text": [
            "\b\b\b\b\b\b\b\b\b\b\b\b\b\b\b\b\b\b\b\b\b\b\b\b\b\b\b\b\b\b\b\b\b\b\b\b\b\b\b\b\b\b\b\b\b\b\b\b\b\b\b\b\b\b\b\b\b\b\b\b\b\b\b\b\b\b\b\b\b\b\b\b\b\b\b\b\b\b\b\b\b\b\b\b\r391/391 [==============================] - 16s 41ms/step - loss: 2.3017 - accuracy: 0.1253 - val_loss: 2.2514 - val_accuracy: 0.1629\n",
            "Epoch 2/10\n",
            "391/391 [==============================] - 15s 39ms/step - loss: 2.2502 - accuracy: 0.1595 - val_loss: 2.2171 - val_accuracy: 0.1909\n",
            "Epoch 3/10\n",
            "391/391 [==============================] - 15s 39ms/step - loss: 2.2118 - accuracy: 0.1858 - val_loss: 2.1817 - val_accuracy: 0.2161\n",
            "Epoch 4/10\n",
            "391/391 [==============================] - 15s 39ms/step - loss: 2.1777 - accuracy: 0.2001 - val_loss: 2.1476 - val_accuracy: 0.2396\n",
            "Epoch 5/10\n",
            "391/391 [==============================] - 15s 39ms/step - loss: 2.1472 - accuracy: 0.2121 - val_loss: 2.1174 - val_accuracy: 0.2514\n",
            "Epoch 6/10\n",
            "391/391 [==============================] - 15s 39ms/step - loss: 2.1215 - accuracy: 0.2183 - val_loss: 2.0928 - val_accuracy: 0.2605\n",
            "Epoch 7/10\n",
            "391/391 [==============================] - 15s 39ms/step - loss: 2.1036 - accuracy: 0.2239 - val_loss: 2.0739 - val_accuracy: 0.2621\n",
            "Epoch 8/10\n",
            "391/391 [==============================] - 15s 39ms/step - loss: 2.0901 - accuracy: 0.2283 - val_loss: 2.0598 - val_accuracy: 0.2676\n",
            "Epoch 9/10\n",
            "391/391 [==============================] - 15s 39ms/step - loss: 2.0782 - accuracy: 0.2321 - val_loss: 2.0488 - val_accuracy: 0.2722\n",
            "Epoch 10/10\n",
            "391/391 [==============================] - 15s 39ms/step - loss: 2.0710 - accuracy: 0.2329 - val_loss: 2.0399 - val_accuracy: 0.2744\n",
            "wandb: Agent Finished Run: ze75ntza \n",
            "\n",
            "wandb: Agent Starting Run: dq2p0zo2 with config:\n",
            "\tepochs: 10\n",
            "\tgroups: 32\n",
            "\tlearning_rate: 1e-05\n",
            "\toptimizer: adam\n",
            "wandb: Agent Started Run: dq2p0zo2\n"
          ],
          "name": "stdout"
        },
        {
          "output_type": "display_data",
          "data": {
            "text/html": [
              "\n",
              "                Logging results to <a href=\"https://wandb.com\" target=\"_blank\">Weights & Biases</a> <a href=\"https://docs.wandb.com/integrations/jupyter.html\" target=\"_blank\">(Documentation)</a>.<br/>\n",
              "                Project page: <a href=\"https://app.wandb.ai/sayakpaul/evonorm-tf2\" target=\"_blank\">https://app.wandb.ai/sayakpaul/evonorm-tf2</a><br/>\n",
              "                Sweep page: <a href=\"https://app.wandb.ai/sayakpaul/evonorm-tf2/sweeps/5aefityj\" target=\"_blank\">https://app.wandb.ai/sayakpaul/evonorm-tf2/sweeps/5aefityj</a><br/>\n",
              "Run page: <a href=\"https://app.wandb.ai/sayakpaul/evonorm-tf2/runs/dq2p0zo2\" target=\"_blank\">https://app.wandb.ai/sayakpaul/evonorm-tf2/runs/dq2p0zo2</a><br/>\n",
              "            "
            ],
            "text/plain": [
              "<IPython.core.display.HTML object>"
            ]
          },
          "metadata": {
            "tags": []
          }
        },
        {
          "output_type": "stream",
          "text": [
            "Epoch 1/10\n",
            "391/391 [==============================] - ETA: 0s - loss: 2.0304 - accuracy: 0.2449"
          ],
          "name": "stdout"
        },
        {
          "output_type": "stream",
          "text": [
            "\u001b[34m\u001b[1mwandb\u001b[0m: \u001b[32m\u001b[41mERROR\u001b[0m Can't save model, h5py returned error: Layer EvoNorm2dS0 has arguments in `__init__` and therefore must override `get_config`.\n"
          ],
          "name": "stderr"
        },
        {
          "output_type": "stream",
          "text": [
            "\b\b\b\b\b\b\b\b\b\b\b\b\b\b\b\b\b\b\b\b\b\b\b\b\b\b\b\b\b\b\b\b\b\b\b\b\b\b\b\b\b\b\b\b\b\b\b\b\b\b\b\b\b\b\b\b\b\b\b\b\b\b\b\b\b\b\b\b\b\b\b\b\b\b\b\b\b\b\b\b\b\b\b\b\r391/391 [==============================] - 17s 42ms/step - loss: 2.0304 - accuracy: 0.2449 - val_loss: 1.8668 - val_accuracy: 0.3264\n",
            "Epoch 2/10\n",
            "391/391 [==============================] - 16s 41ms/step - loss: 1.8513 - accuracy: 0.3189 - val_loss: 1.7637 - val_accuracy: 0.3731\n",
            "Epoch 3/10\n",
            "391/391 [==============================] - 16s 41ms/step - loss: 1.7483 - accuracy: 0.3608 - val_loss: 1.6546 - val_accuracy: 0.4023\n",
            "Epoch 4/10\n",
            "391/391 [==============================] - 16s 40ms/step - loss: 1.6641 - accuracy: 0.3877 - val_loss: 1.5990 - val_accuracy: 0.4253\n",
            "Epoch 5/10\n",
            "391/391 [==============================] - 16s 40ms/step - loss: 1.6231 - accuracy: 0.4065 - val_loss: 1.5540 - val_accuracy: 0.4407\n",
            "Epoch 6/10\n",
            "391/391 [==============================] - 16s 41ms/step - loss: 1.5895 - accuracy: 0.4231 - val_loss: 1.5325 - val_accuracy: 0.4467\n",
            "Epoch 7/10\n",
            "391/391 [==============================] - 16s 41ms/step - loss: 1.5618 - accuracy: 0.4311 - val_loss: 1.5055 - val_accuracy: 0.4567\n",
            "Epoch 8/10\n",
            "391/391 [==============================] - 16s 41ms/step - loss: 1.5397 - accuracy: 0.4446 - val_loss: 1.5170 - val_accuracy: 0.4582\n",
            "Epoch 9/10\n",
            "391/391 [==============================] - 16s 41ms/step - loss: 1.5214 - accuracy: 0.4513 - val_loss: 1.4824 - val_accuracy: 0.4700\n",
            "Epoch 10/10\n",
            "391/391 [==============================] - 16s 40ms/step - loss: 1.4984 - accuracy: 0.4615 - val_loss: 1.4537 - val_accuracy: 0.4840\n",
            "wandb: Agent Finished Run: dq2p0zo2 \n",
            "\n",
            "wandb: Agent Starting Run: mamwh37h with config:\n",
            "\tepochs: 30\n",
            "\tgroups: 16\n",
            "\tlearning_rate: 0.0003\n",
            "\toptimizer: adam\n",
            "wandb: Agent Started Run: mamwh37h\n"
          ],
          "name": "stdout"
        },
        {
          "output_type": "display_data",
          "data": {
            "text/html": [
              "\n",
              "                Logging results to <a href=\"https://wandb.com\" target=\"_blank\">Weights & Biases</a> <a href=\"https://docs.wandb.com/integrations/jupyter.html\" target=\"_blank\">(Documentation)</a>.<br/>\n",
              "                Project page: <a href=\"https://app.wandb.ai/sayakpaul/evonorm-tf2\" target=\"_blank\">https://app.wandb.ai/sayakpaul/evonorm-tf2</a><br/>\n",
              "                Sweep page: <a href=\"https://app.wandb.ai/sayakpaul/evonorm-tf2/sweeps/5aefityj\" target=\"_blank\">https://app.wandb.ai/sayakpaul/evonorm-tf2/sweeps/5aefityj</a><br/>\n",
              "Run page: <a href=\"https://app.wandb.ai/sayakpaul/evonorm-tf2/runs/mamwh37h\" target=\"_blank\">https://app.wandb.ai/sayakpaul/evonorm-tf2/runs/mamwh37h</a><br/>\n",
              "            "
            ],
            "text/plain": [
              "<IPython.core.display.HTML object>"
            ]
          },
          "metadata": {
            "tags": []
          }
        },
        {
          "output_type": "stream",
          "text": [
            "Epoch 1/30\n",
            "391/391 [==============================] - ETA: 0s - loss: 1.7103 - accuracy: 0.3696"
          ],
          "name": "stdout"
        },
        {
          "output_type": "stream",
          "text": [
            "\u001b[34m\u001b[1mwandb\u001b[0m: \u001b[32m\u001b[41mERROR\u001b[0m Can't save model, h5py returned error: Layer EvoNorm2dS0 has arguments in `__init__` and therefore must override `get_config`.\n"
          ],
          "name": "stderr"
        },
        {
          "output_type": "stream",
          "text": [
            "\b\b\b\b\b\b\b\b\b\b\b\b\b\b\b\b\b\b\b\b\b\b\b\b\b\b\b\b\b\b\b\b\b\b\b\b\b\b\b\b\b\b\b\b\b\b\b\b\b\b\b\b\b\b\b\b\b\b\b\b\b\b\b\b\b\b\b\b\b\b\b\b\b\b\b\b\b\b\b\b\b\b\b\b\r391/391 [==============================] - 16s 42ms/step - loss: 1.7103 - accuracy: 0.3696 - val_loss: 1.4524 - val_accuracy: 0.4799\n",
            "Epoch 2/30\n",
            "391/391 [==============================] - 16s 40ms/step - loss: 1.2952 - accuracy: 0.5430 - val_loss: 1.1951 - val_accuracy: 0.5865\n",
            "Epoch 3/30\n",
            "391/391 [==============================] - 16s 40ms/step - loss: 1.1306 - accuracy: 0.6047 - val_loss: 1.0563 - val_accuracy: 0.6381\n",
            "Epoch 4/30\n",
            "391/391 [==============================] - 16s 40ms/step - loss: 1.0236 - accuracy: 0.6461 - val_loss: 0.9706 - val_accuracy: 0.6610\n",
            "Epoch 5/30\n",
            "391/391 [==============================] - 16s 40ms/step - loss: 0.9396 - accuracy: 0.6781 - val_loss: 0.9604 - val_accuracy: 0.6777\n",
            "Epoch 6/30\n",
            "391/391 [==============================] - 16s 40ms/step - loss: 0.8801 - accuracy: 0.6990 - val_loss: 0.9044 - val_accuracy: 0.6843\n",
            "Epoch 7/30\n",
            "391/391 [==============================] - 16s 40ms/step - loss: 0.8316 - accuracy: 0.7164 - val_loss: 0.8165 - val_accuracy: 0.7192\n",
            "Epoch 8/30\n",
            "391/391 [==============================] - 16s 40ms/step - loss: 0.7834 - accuracy: 0.7334 - val_loss: 0.9038 - val_accuracy: 0.6915\n",
            "Epoch 9/30\n",
            "391/391 [==============================] - 16s 40ms/step - loss: 0.7411 - accuracy: 0.7483 - val_loss: 0.7875 - val_accuracy: 0.7305\n",
            "Epoch 10/30\n",
            "391/391 [==============================] - 16s 40ms/step - loss: 0.7101 - accuracy: 0.7586 - val_loss: 0.7916 - val_accuracy: 0.7298\n",
            "Epoch 11/30\n",
            "391/391 [==============================] - 16s 40ms/step - loss: 0.6693 - accuracy: 0.7729 - val_loss: 0.7501 - val_accuracy: 0.7454\n",
            "Epoch 12/30\n",
            "391/391 [==============================] - 16s 40ms/step - loss: 0.6412 - accuracy: 0.7796 - val_loss: 0.8414 - val_accuracy: 0.7213\n",
            "Epoch 13/30\n",
            "391/391 [==============================] - 16s 40ms/step - loss: 0.6083 - accuracy: 0.7920 - val_loss: 0.8124 - val_accuracy: 0.7330\n",
            "Epoch 14/30\n",
            "391/391 [==============================] - 16s 40ms/step - loss: 0.5756 - accuracy: 0.8031 - val_loss: 0.7759 - val_accuracy: 0.7402\n",
            "Epoch 15/30\n",
            "391/391 [==============================] - 16s 40ms/step - loss: 0.5525 - accuracy: 0.8100 - val_loss: 0.8523 - val_accuracy: 0.7308\n",
            "Epoch 16/30\n",
            "391/391 [==============================] - 16s 41ms/step - loss: 0.5281 - accuracy: 0.8190 - val_loss: 0.7010 - val_accuracy: 0.7718\n",
            "Epoch 17/30\n",
            "391/391 [==============================] - 16s 41ms/step - loss: 0.4915 - accuracy: 0.8331 - val_loss: 0.7382 - val_accuracy: 0.7612\n",
            "Epoch 18/30\n",
            "391/391 [==============================] - 16s 41ms/step - loss: 0.4728 - accuracy: 0.8372 - val_loss: 0.7369 - val_accuracy: 0.7585\n",
            "Epoch 19/30\n",
            "391/391 [==============================] - 16s 41ms/step - loss: 0.4517 - accuracy: 0.8415 - val_loss: 0.8357 - val_accuracy: 0.7483\n",
            "Epoch 20/30\n",
            "391/391 [==============================] - 16s 40ms/step - loss: 0.4222 - accuracy: 0.8518 - val_loss: 0.8525 - val_accuracy: 0.7464\n",
            "Epoch 21/30\n",
            "391/391 [==============================] - 16s 40ms/step - loss: 0.4034 - accuracy: 0.8590 - val_loss: 0.7939 - val_accuracy: 0.7566\n",
            "Epoch 22/30\n",
            "391/391 [==============================] - 16s 40ms/step - loss: 0.3765 - accuracy: 0.8666 - val_loss: 0.9689 - val_accuracy: 0.7274\n",
            "Epoch 23/30\n",
            "391/391 [==============================] - 16s 40ms/step - loss: 0.3644 - accuracy: 0.8715 - val_loss: 0.8226 - val_accuracy: 0.7580\n",
            "Epoch 24/30\n",
            "391/391 [==============================] - 15s 40ms/step - loss: 0.3372 - accuracy: 0.8815 - val_loss: 0.9596 - val_accuracy: 0.7398\n",
            "Epoch 25/30\n",
            "391/391 [==============================] - 15s 39ms/step - loss: 0.3320 - accuracy: 0.8834 - val_loss: 0.9135 - val_accuracy: 0.7522\n",
            "Epoch 26/30\n",
            "391/391 [==============================] - 15s 39ms/step - loss: 0.3034 - accuracy: 0.8916 - val_loss: 0.9633 - val_accuracy: 0.7488\n",
            "Epoch 27/30\n",
            "391/391 [==============================] - 15s 39ms/step - loss: 0.2933 - accuracy: 0.8968 - val_loss: 0.9811 - val_accuracy: 0.7482\n",
            "Epoch 28/30\n",
            "391/391 [==============================] - 15s 39ms/step - loss: 0.2749 - accuracy: 0.9034 - val_loss: 1.0045 - val_accuracy: 0.7469\n",
            "Epoch 29/30\n",
            "391/391 [==============================] - 15s 39ms/step - loss: 0.2725 - accuracy: 0.9045 - val_loss: 0.9217 - val_accuracy: 0.7641\n",
            "Epoch 30/30\n",
            "391/391 [==============================] - 16s 40ms/step - loss: 0.2619 - accuracy: 0.9080 - val_loss: 0.9836 - val_accuracy: 0.7505\n",
            "wandb: Agent Finished Run: mamwh37h \n",
            "\n",
            "wandb: Agent Starting Run: 4gcfx1uj with config:\n",
            "\tepochs: 30\n",
            "\tgroups: 4\n",
            "\tlearning_rate: 0.0003\n",
            "\toptimizer: sgd\n",
            "wandb: Agent Started Run: 4gcfx1uj\n"
          ],
          "name": "stdout"
        },
        {
          "output_type": "display_data",
          "data": {
            "text/html": [
              "\n",
              "                Logging results to <a href=\"https://wandb.com\" target=\"_blank\">Weights & Biases</a> <a href=\"https://docs.wandb.com/integrations/jupyter.html\" target=\"_blank\">(Documentation)</a>.<br/>\n",
              "                Project page: <a href=\"https://app.wandb.ai/sayakpaul/evonorm-tf2\" target=\"_blank\">https://app.wandb.ai/sayakpaul/evonorm-tf2</a><br/>\n",
              "                Sweep page: <a href=\"https://app.wandb.ai/sayakpaul/evonorm-tf2/sweeps/5aefityj\" target=\"_blank\">https://app.wandb.ai/sayakpaul/evonorm-tf2/sweeps/5aefityj</a><br/>\n",
              "Run page: <a href=\"https://app.wandb.ai/sayakpaul/evonorm-tf2/runs/4gcfx1uj\" target=\"_blank\">https://app.wandb.ai/sayakpaul/evonorm-tf2/runs/4gcfx1uj</a><br/>\n",
              "            "
            ],
            "text/plain": [
              "<IPython.core.display.HTML object>"
            ]
          },
          "metadata": {
            "tags": []
          }
        },
        {
          "output_type": "stream",
          "text": [
            "Epoch 1/30\n",
            "391/391 [==============================] - ETA: 0s - loss: 2.0995 - accuracy: 0.2212"
          ],
          "name": "stdout"
        },
        {
          "output_type": "stream",
          "text": [
            "\u001b[34m\u001b[1mwandb\u001b[0m: \u001b[32m\u001b[41mERROR\u001b[0m Can't save model, h5py returned error: Layer EvoNorm2dS0 has arguments in `__init__` and therefore must override `get_config`.\n"
          ],
          "name": "stderr"
        },
        {
          "output_type": "stream",
          "text": [
            "\b\b\b\b\b\b\b\b\b\b\b\b\b\b\b\b\b\b\b\b\b\b\b\b\b\b\b\b\b\b\b\b\b\b\b\b\b\b\b\b\b\b\b\b\b\b\b\b\b\b\b\b\b\b\b\b\b\b\b\b\b\b\b\b\b\b\b\b\b\b\b\b\b\b\b\b\b\b\b\b\b\b\b\b\r391/391 [==============================] - 16s 41ms/step - loss: 2.0995 - accuracy: 0.2212 - val_loss: 1.9197 - val_accuracy: 0.2955\n",
            "Epoch 2/30\n",
            "391/391 [==============================] - 15s 39ms/step - loss: 1.9087 - accuracy: 0.2898 - val_loss: 1.8703 - val_accuracy: 0.3218\n",
            "Epoch 3/30\n",
            "391/391 [==============================] - 15s 39ms/step - loss: 1.8495 - accuracy: 0.3197 - val_loss: 1.7777 - val_accuracy: 0.3573\n",
            "Epoch 4/30\n",
            "391/391 [==============================] - 15s 39ms/step - loss: 1.7824 - accuracy: 0.3422 - val_loss: 1.7057 - val_accuracy: 0.3816\n",
            "Epoch 5/30\n",
            "391/391 [==============================] - 15s 39ms/step - loss: 1.7152 - accuracy: 0.3649 - val_loss: 1.6463 - val_accuracy: 0.3964\n",
            "Epoch 6/30\n",
            "391/391 [==============================] - 15s 39ms/step - loss: 1.6750 - accuracy: 0.3832 - val_loss: 1.6132 - val_accuracy: 0.4182\n",
            "Epoch 7/30\n",
            "391/391 [==============================] - 15s 38ms/step - loss: 1.6472 - accuracy: 0.3956 - val_loss: 1.5814 - val_accuracy: 0.4312\n",
            "Epoch 8/30\n",
            "391/391 [==============================] - 15s 38ms/step - loss: 1.6210 - accuracy: 0.4088 - val_loss: 1.5971 - val_accuracy: 0.4242\n",
            "Epoch 9/30\n",
            "391/391 [==============================] - 15s 38ms/step - loss: 1.6010 - accuracy: 0.4162 - val_loss: 1.5597 - val_accuracy: 0.4390\n",
            "Epoch 10/30\n",
            "391/391 [==============================] - 15s 38ms/step - loss: 1.5804 - accuracy: 0.4268 - val_loss: 1.5207 - val_accuracy: 0.4559\n",
            "Epoch 11/30\n",
            "391/391 [==============================] - 15s 39ms/step - loss: 1.5610 - accuracy: 0.4335 - val_loss: 1.5086 - val_accuracy: 0.4586\n",
            "Epoch 12/30\n",
            "391/391 [==============================] - 15s 39ms/step - loss: 1.5509 - accuracy: 0.4367 - val_loss: 1.4951 - val_accuracy: 0.4669\n",
            "Epoch 13/30\n",
            "391/391 [==============================] - 15s 38ms/step - loss: 1.5353 - accuracy: 0.4456 - val_loss: 1.4905 - val_accuracy: 0.4686\n",
            "Epoch 14/30\n",
            "391/391 [==============================] - 15s 39ms/step - loss: 1.5202 - accuracy: 0.4526 - val_loss: 1.4754 - val_accuracy: 0.4702\n",
            "Epoch 15/30\n",
            "391/391 [==============================] - 15s 38ms/step - loss: 1.5087 - accuracy: 0.4563 - val_loss: 1.4704 - val_accuracy: 0.4731\n",
            "Epoch 16/30\n",
            "391/391 [==============================] - 15s 38ms/step - loss: 1.4955 - accuracy: 0.4621 - val_loss: 1.4515 - val_accuracy: 0.4852\n",
            "Epoch 17/30\n",
            "391/391 [==============================] - 15s 38ms/step - loss: 1.4853 - accuracy: 0.4670 - val_loss: 1.4415 - val_accuracy: 0.4889\n",
            "Epoch 18/30\n",
            "391/391 [==============================] - 15s 39ms/step - loss: 1.4738 - accuracy: 0.4705 - val_loss: 1.4471 - val_accuracy: 0.4813\n",
            "Epoch 19/30\n",
            "391/391 [==============================] - 15s 39ms/step - loss: 1.4630 - accuracy: 0.4776 - val_loss: 1.4193 - val_accuracy: 0.4997\n",
            "Epoch 20/30\n",
            "391/391 [==============================] - 15s 39ms/step - loss: 1.4528 - accuracy: 0.4805 - val_loss: 1.4245 - val_accuracy: 0.4955\n",
            "Epoch 21/30\n",
            "391/391 [==============================] - 15s 38ms/step - loss: 1.4426 - accuracy: 0.4857 - val_loss: 1.4059 - val_accuracy: 0.5028\n",
            "Epoch 22/30\n",
            "391/391 [==============================] - 15s 39ms/step - loss: 1.4317 - accuracy: 0.4907 - val_loss: 1.3935 - val_accuracy: 0.5079\n",
            "Epoch 23/30\n",
            "391/391 [==============================] - 15s 39ms/step - loss: 1.4220 - accuracy: 0.4938 - val_loss: 1.3883 - val_accuracy: 0.5121\n",
            "Epoch 24/30\n",
            "391/391 [==============================] - 15s 39ms/step - loss: 1.4134 - accuracy: 0.4970 - val_loss: 1.3890 - val_accuracy: 0.5160\n",
            "Epoch 25/30\n",
            "391/391 [==============================] - 15s 38ms/step - loss: 1.4042 - accuracy: 0.5014 - val_loss: 1.3716 - val_accuracy: 0.5168\n",
            "Epoch 26/30\n",
            "391/391 [==============================] - 15s 39ms/step - loss: 1.3961 - accuracy: 0.5038 - val_loss: 1.3656 - val_accuracy: 0.5256\n",
            "Epoch 27/30\n",
            "391/391 [==============================] - 15s 39ms/step - loss: 1.3874 - accuracy: 0.5073 - val_loss: 1.3573 - val_accuracy: 0.5226\n",
            "Epoch 28/30\n",
            "391/391 [==============================] - 15s 39ms/step - loss: 1.3797 - accuracy: 0.5107 - val_loss: 1.3641 - val_accuracy: 0.5264\n",
            "Epoch 29/30\n",
            "391/391 [==============================] - 15s 39ms/step - loss: 1.3731 - accuracy: 0.5123 - val_loss: 1.3564 - val_accuracy: 0.5304\n",
            "Epoch 30/30\n",
            "391/391 [==============================] - 15s 39ms/step - loss: 1.3678 - accuracy: 0.5167 - val_loss: 1.3480 - val_accuracy: 0.5275\n",
            "wandb: Agent Finished Run: 4gcfx1uj \n",
            "\n",
            "wandb: Agent Starting Run: zhfysxmb with config:\n",
            "\tepochs: 40\n",
            "\tgroups: 12\n",
            "\tlearning_rate: 0.01\n",
            "\toptimizer: adam\n",
            "wandb: Agent Started Run: zhfysxmb\n"
          ],
          "name": "stdout"
        },
        {
          "output_type": "display_data",
          "data": {
            "text/html": [
              "\n",
              "                Logging results to <a href=\"https://wandb.com\" target=\"_blank\">Weights & Biases</a> <a href=\"https://docs.wandb.com/integrations/jupyter.html\" target=\"_blank\">(Documentation)</a>.<br/>\n",
              "                Project page: <a href=\"https://app.wandb.ai/sayakpaul/evonorm-tf2\" target=\"_blank\">https://app.wandb.ai/sayakpaul/evonorm-tf2</a><br/>\n",
              "                Sweep page: <a href=\"https://app.wandb.ai/sayakpaul/evonorm-tf2/sweeps/5aefityj\" target=\"_blank\">https://app.wandb.ai/sayakpaul/evonorm-tf2/sweeps/5aefityj</a><br/>\n",
              "Run page: <a href=\"https://app.wandb.ai/sayakpaul/evonorm-tf2/runs/zhfysxmb\" target=\"_blank\">https://app.wandb.ai/sayakpaul/evonorm-tf2/runs/zhfysxmb</a><br/>\n",
              "            "
            ],
            "text/plain": [
              "<IPython.core.display.HTML object>"
            ]
          },
          "metadata": {
            "tags": []
          }
        },
        {
          "output_type": "stream",
          "text": [
            "Epoch 1/40\n",
            "391/391 [==============================] - ETA: 0s - loss: 7311061.5000 - accuracy: 0.0990"
          ],
          "name": "stdout"
        },
        {
          "output_type": "stream",
          "text": [
            "\u001b[34m\u001b[1mwandb\u001b[0m: \u001b[32m\u001b[41mERROR\u001b[0m Can't save model, h5py returned error: Layer EvoNorm2dS0 has arguments in `__init__` and therefore must override `get_config`.\n"
          ],
          "name": "stderr"
        },
        {
          "output_type": "stream",
          "text": [
            "\b\b\b\b\b\b\b\b\b\b\b\b\b\b\b\b\b\b\b\b\b\b\b\b\b\b\b\b\b\b\b\b\b\b\b\b\b\b\b\b\b\b\b\b\b\b\b\b\b\b\b\b\b\b\b\b\b\b\b\b\b\b\b\b\b\b\b\b\b\b\b\b\b\b\b\b\b\b\b\b\b\b\b\b\b\b\b\b\b\b\r391/391 [==============================] - 16s 42ms/step - loss: 7311061.5000 - accuracy: 0.0990 - val_loss: 902938.5625 - val_accuracy: 0.1000\n",
            "Epoch 2/40\n",
            "391/391 [==============================] - 15s 40ms/step - loss: 859092.8750 - accuracy: 0.1017 - val_loss: 213325.7188 - val_accuracy: 0.0962\n",
            "Epoch 3/40\n",
            "391/391 [==============================] - 15s 40ms/step - loss: 1160460.2500 - accuracy: 0.0995 - val_loss: 267414.2812 - val_accuracy: 0.1000\n",
            "Epoch 4/40\n",
            "391/391 [==============================] - 15s 39ms/step - loss: 816655.4375 - accuracy: 0.1039 - val_loss: 1606177.5000 - val_accuracy: 0.1000\n",
            "Epoch 5/40\n",
            "391/391 [==============================] - 15s 40ms/step - loss: 894674.0000 - accuracy: 0.1001 - val_loss: 39955.1094 - val_accuracy: 0.0843\n",
            "Epoch 6/40\n",
            "391/391 [==============================] - 15s 39ms/step - loss: 700806.9375 - accuracy: 0.1008 - val_loss: 398641.0938 - val_accuracy: 0.1000\n",
            "Epoch 7/40\n",
            "391/391 [==============================] - 15s 40ms/step - loss: 1076412.8750 - accuracy: 0.1010 - val_loss: 613821.3125 - val_accuracy: 0.1000\n",
            "Epoch 8/40\n",
            "391/391 [==============================] - 15s 39ms/step - loss: 1294769.8750 - accuracy: 0.1012 - val_loss: 1184137.8750 - val_accuracy: 0.0999\n",
            "Epoch 9/40\n",
            "391/391 [==============================] - 16s 40ms/step - loss: 931135.6875 - accuracy: 0.1004 - val_loss: 2473271.0000 - val_accuracy: 0.1000\n",
            "Epoch 10/40\n",
            "391/391 [==============================] - 15s 40ms/step - loss: 1537136.2500 - accuracy: 0.1010 - val_loss: 349926.9375 - val_accuracy: 0.1000\n",
            "Epoch 11/40\n",
            "391/391 [==============================] - 16s 40ms/step - loss: 870066.2500 - accuracy: 0.1016 - val_loss: 1099709.1250 - val_accuracy: 0.1000\n",
            "Epoch 12/40\n",
            "391/391 [==============================] - 15s 39ms/step - loss: 1565584.3750 - accuracy: 0.1007 - val_loss: 1079826.3750 - val_accuracy: 0.1000\n",
            "Epoch 13/40\n",
            "391/391 [==============================] - 15s 39ms/step - loss: 1077018.3750 - accuracy: 0.1014 - val_loss: 149130.0156 - val_accuracy: 0.1000\n",
            "Epoch 14/40\n",
            "391/391 [==============================] - 15s 39ms/step - loss: 925968.9375 - accuracy: 0.0987 - val_loss: 788975.0625 - val_accuracy: 0.1000\n",
            "Epoch 15/40\n",
            "391/391 [==============================] - 15s 39ms/step - loss: 805075.5000 - accuracy: 0.1014 - val_loss: 149031.2656 - val_accuracy: 0.1144\n",
            "Epoch 16/40\n",
            "391/391 [==============================] - 15s 39ms/step - loss: 1264732.8750 - accuracy: 0.0986 - val_loss: 232218.6406 - val_accuracy: 0.0987\n",
            "Epoch 17/40\n",
            "391/391 [==============================] - 15s 39ms/step - loss: 1141754.8750 - accuracy: 0.1008 - val_loss: 560906.3125 - val_accuracy: 0.1000\n",
            "Epoch 18/40\n",
            "391/391 [==============================] - 15s 39ms/step - loss: 949626.7500 - accuracy: 0.0996 - val_loss: 66920.7656 - val_accuracy: 0.1160\n",
            "Epoch 19/40\n",
            "391/391 [==============================] - 15s 39ms/step - loss: 955781.5000 - accuracy: 0.0977 - val_loss: 1088616.2500 - val_accuracy: 0.1000\n",
            "Epoch 20/40\n",
            "391/391 [==============================] - 15s 39ms/step - loss: 907080.1250 - accuracy: 0.1000 - val_loss: 1199216.5000 - val_accuracy: 0.1000\n",
            "Epoch 21/40\n",
            "391/391 [==============================] - 15s 39ms/step - loss: 1081277.5000 - accuracy: 0.0972 - val_loss: 272967.8438 - val_accuracy: 0.1001\n",
            "Epoch 22/40\n",
            "391/391 [==============================] - 15s 39ms/step - loss: 1775482.8750 - accuracy: 0.1000 - val_loss: 4655665.0000 - val_accuracy: 0.1000\n",
            "Epoch 23/40\n",
            "391/391 [==============================] - 15s 39ms/step - loss: 1339733.5000 - accuracy: 0.0972 - val_loss: 212489.8750 - val_accuracy: 0.1000\n",
            "Epoch 24/40\n",
            "391/391 [==============================] - 15s 39ms/step - loss: 1054449.7500 - accuracy: 0.0989 - val_loss: 418088.6875 - val_accuracy: 0.0999\n",
            "Epoch 25/40\n",
            "391/391 [==============================] - 15s 39ms/step - loss: 903118.7500 - accuracy: 0.1026 - val_loss: 587343.0625 - val_accuracy: 0.1000\n",
            "Epoch 26/40\n",
            "391/391 [==============================] - 15s 39ms/step - loss: 1097266.8750 - accuracy: 0.1017 - val_loss: 74768.9844 - val_accuracy: 0.0959\n",
            "Epoch 27/40\n",
            "391/391 [==============================] - 15s 39ms/step - loss: 1413687.8750 - accuracy: 0.1021 - val_loss: 48231.4062 - val_accuracy: 0.1102\n",
            "Epoch 28/40\n",
            "391/391 [==============================] - 15s 39ms/step - loss: 1003608.8125 - accuracy: 0.0990 - val_loss: 973627.3125 - val_accuracy: 0.1000\n",
            "Epoch 29/40\n",
            "391/391 [==============================] - 15s 40ms/step - loss: 1412304.2500 - accuracy: 0.1004 - val_loss: 316991.7812 - val_accuracy: 0.1123\n",
            "Epoch 30/40\n",
            "391/391 [==============================] - 15s 39ms/step - loss: 978259.3125 - accuracy: 0.0986 - val_loss: 444862.6875 - val_accuracy: 0.1026\n",
            "Epoch 31/40\n",
            "391/391 [==============================] - 15s 39ms/step - loss: 1584709.2500 - accuracy: 0.1005 - val_loss: 213970.0469 - val_accuracy: 0.1020\n",
            "Epoch 32/40\n",
            "391/391 [==============================] - 15s 39ms/step - loss: 958468.2500 - accuracy: 0.0990 - val_loss: 577852.5000 - val_accuracy: 0.1000\n",
            "Epoch 33/40\n",
            "391/391 [==============================] - 15s 39ms/step - loss: 729503.4375 - accuracy: 0.0991 - val_loss: 231508.2500 - val_accuracy: 0.1006\n",
            "Epoch 34/40\n",
            "391/391 [==============================] - 15s 39ms/step - loss: 967254.1875 - accuracy: 0.0989 - val_loss: 548626.3750 - val_accuracy: 0.1000\n",
            "Epoch 35/40\n",
            "391/391 [==============================] - 15s 39ms/step - loss: 1464441.2500 - accuracy: 0.1004 - val_loss: 119965.4688 - val_accuracy: 0.1167\n",
            "Epoch 36/40\n",
            "391/391 [==============================] - 15s 39ms/step - loss: 952373.4375 - accuracy: 0.0978 - val_loss: 473336.2500 - val_accuracy: 0.1012\n",
            "Epoch 37/40\n",
            "391/391 [==============================] - 15s 39ms/step - loss: 1068424.1250 - accuracy: 0.0991 - val_loss: 325123.4688 - val_accuracy: 0.1000\n",
            "Epoch 38/40\n",
            "391/391 [==============================] - 15s 39ms/step - loss: 1597494.3750 - accuracy: 0.0995 - val_loss: 1319782.5000 - val_accuracy: 0.1000\n",
            "Epoch 39/40\n",
            "391/391 [==============================] - 15s 39ms/step - loss: 998806.7500 - accuracy: 0.0994 - val_loss: 222573.0625 - val_accuracy: 0.1000\n",
            "Epoch 40/40\n",
            "391/391 [==============================] - 15s 39ms/step - loss: 1084235.0000 - accuracy: 0.0997 - val_loss: 550871.8125 - val_accuracy: 0.0999\n",
            "wandb: Agent Finished Run: zhfysxmb \n",
            "\n"
          ],
          "name": "stdout"
        }
      ]
    }
  ]
}