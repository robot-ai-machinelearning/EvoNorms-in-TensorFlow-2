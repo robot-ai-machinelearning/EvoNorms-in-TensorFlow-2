{
  "nbformat": 4,
  "nbformat_minor": 0,
  "metadata": {
    "colab": {
      "name": "Mini_Inception_EvoNorm_Sweep.ipynb",
      "provenance": [],
      "collapsed_sections": [],
      "include_colab_link": true
    },
    "kernelspec": {
      "name": "python3",
      "display_name": "Python 3"
    },
    "accelerator": "GPU"
  },
  "cells": [
    {
      "cell_type": "markdown",
      "metadata": {
        "id": "view-in-github",
        "colab_type": "text"
      },
      "source": [
        "<a href=\"https://colab.research.google.com/github/sayakpaul/EvoNorms-in-TensorFlow-2/blob/master/Mini_Inception_EvoNorm_Sweep.ipynb\" target=\"_parent\"><img src=\"https://colab.research.google.com/assets/colab-badge.svg\" alt=\"Open In Colab\"/></a>"
      ]
    },
    {
      "cell_type": "code",
      "metadata": {
        "id": "P9Zu7Yo05Z2B",
        "colab_type": "code",
        "outputId": "eb9ea605-96c2-4ecc-d00b-8e4eb3485df3",
        "colab": {
          "base_uri": "https://localhost:8080/",
          "height": 306
        }
      },
      "source": [
        "# Which GPU?\n",
        "!nvidia-smi"
      ],
      "execution_count": 2,
      "outputs": [
        {
          "output_type": "stream",
          "text": [
            "Sun Apr 19 11:31:31 2020       \n",
            "+-----------------------------------------------------------------------------+\n",
            "| NVIDIA-SMI 440.64.00    Driver Version: 418.67       CUDA Version: 10.1     |\n",
            "|-------------------------------+----------------------+----------------------+\n",
            "| GPU  Name        Persistence-M| Bus-Id        Disp.A | Volatile Uncorr. ECC |\n",
            "| Fan  Temp  Perf  Pwr:Usage/Cap|         Memory-Usage | GPU-Util  Compute M. |\n",
            "|===============================+======================+======================|\n",
            "|   0  Tesla K80           Off  | 00000000:00:04.0 Off |                    0 |\n",
            "| N/A   57C    P8    31W / 149W |      0MiB / 11441MiB |      0%      Default |\n",
            "+-------------------------------+----------------------+----------------------+\n",
            "                                                                               \n",
            "+-----------------------------------------------------------------------------+\n",
            "| Processes:                                                       GPU Memory |\n",
            "|  GPU       PID   Type   Process name                             Usage      |\n",
            "|=============================================================================|\n",
            "|  No running processes found                                                 |\n",
            "+-----------------------------------------------------------------------------+\n"
          ],
          "name": "stdout"
        }
      ]
    },
    {
      "cell_type": "code",
      "metadata": {
        "id": "Db2J7ef05rbP",
        "colab_type": "code",
        "outputId": "c36f9640-47aa-4edc-882d-32fbb3e132cf",
        "colab": {
          "base_uri": "https://localhost:8080/",
          "height": 34
        }
      },
      "source": [
        "# TensorFlow imports\n",
        "import tensorflow as tf\n",
        "print(tf.__version__)"
      ],
      "execution_count": 3,
      "outputs": [
        {
          "output_type": "stream",
          "text": [
            "2.2.0-rc3\n"
          ],
          "name": "stdout"
        }
      ]
    },
    {
      "cell_type": "code",
      "metadata": {
        "id": "kpgVpVAT52tQ",
        "colab_type": "code",
        "colab": {}
      },
      "source": [
        "# Other imports\n",
        "from tensorflow.keras.models import *\n",
        "from tensorflow.keras.layers import *\n",
        "import matplotlib.pyplot as plt\n",
        "import numpy as np"
      ],
      "execution_count": 0,
      "outputs": []
    },
    {
      "cell_type": "code",
      "metadata": {
        "id": "iQfMpKon54ek",
        "colab_type": "code",
        "colab": {}
      },
      "source": [
        "# Set the random seeds\n",
        "tf.random.set_seed(666)\n",
        "np.random.seed(666)"
      ],
      "execution_count": 0,
      "outputs": []
    },
    {
      "cell_type": "code",
      "metadata": {
        "id": "kF-De6t76AVF",
        "colab_type": "code",
        "colab": {}
      },
      "source": [
        "# Set up wandb for easy experiment tracking\n",
        "!pip install wandb -q\n",
        "import wandb\n",
        "wandb.login()"
      ],
      "execution_count": 0,
      "outputs": []
    },
    {
      "cell_type": "code",
      "metadata": {
        "id": "Vn2qwxQI6BnA",
        "colab_type": "code",
        "outputId": "eb2f1509-e596-43aa-a845-ce0044c8843b",
        "colab": {
          "base_uri": "https://localhost:8080/",
          "height": 68
        }
      },
      "source": [
        "# Load and preprocess CIFAR10 dataset\n",
        "(X_train, y_train), (X_test, y_test) = tf.keras.datasets.cifar10.load_data()\n",
        "X_train = X_train / 255.\n",
        "X_test = X_test / 255.\n",
        "print(X_train.shape, X_test.shape)"
      ],
      "execution_count": 8,
      "outputs": [
        {
          "output_type": "stream",
          "text": [
            "Downloading data from https://www.cs.toronto.edu/~kriz/cifar-10-python.tar.gz\n",
            "170500096/170498071 [==============================] - 2s 0us/step\n",
            "(50000, 32, 32, 3) (10000, 32, 32, 3)\n"
          ],
          "name": "stdout"
        }
      ]
    },
    {
      "cell_type": "markdown",
      "metadata": {
        "id": "K90MizFw6Qoq",
        "colab_type": "text"
      },
      "source": [
        "## `EvoNorm2dS0`"
      ]
    },
    {
      "cell_type": "code",
      "metadata": {
        "id": "tFgSX1Ed6MW1",
        "colab_type": "code",
        "colab": {}
      },
      "source": [
        "# Reference\n",
        "# https://github.com/lonePatient/EvoNorms_PyTorch/blob/master/models/normalization.py\n",
        "\n",
        "def group_std(x, groups=32, eps=1e-5):\n",
        "\tN, H, W, C = tf.shape(x)\n",
        "\tx = tf.reshape(x, [N, H, W, groups, C // groups])\n",
        "\t_, var = tf.nn.moments(x, [1, 2, 4], keepdims=True)\n",
        "\tstd = tf.sqrt(var + eps)\n",
        "\tstd = tf.broadcast_to(std, x.shape)\n",
        "\treturn tf.reshape(std, (N, H, W, C))\n",
        "\n",
        "class EvoNorm2dS0(tf.keras.layers.Layer):\n",
        "\tdef __init__(self, in_channels, groups=32, nonlinear=True):\n",
        "\t\tsuper(EvoNorm2dS0, self).__init__()\n",
        "\t\tself.nonlinear = nonlinear\n",
        "\t\tself.groups = groups\n",
        "\n",
        "\t\tdef build(self):\n",
        "\t\t\tself.gamma = self.add_variable(\"gamma\",\n",
        "\t\t\t\t\t\t\t\t\tshape=(1, 1, 1, self.in_channels),\n",
        "\t\t\t\t\t\t\t\t\tinitializer=tf.initializers.Ones())\n",
        "\t\t\tself.beta = self.add_variable(\"beta\",\n",
        "\t\t\t\t\t\t\t\t\tshape=(1, 1, 1, self.in_channels),\n",
        "\t\t\t\t\t\t\t\t\tinitializer=tf.initializers.Zeros())\n",
        "\t\t\tif self.nonlinear:\n",
        "\t\t\t\tself.v = self.add_variable(\"v\",\n",
        "\t\t\t\t\t\t\t\t\tshape=(1, 1, 1, self.in_channels),\n",
        "\t\t\t\t\t\t\t\t\tinitializer=tf.initializers.Ones())\n",
        "\n",
        "\t\tdef call(self, x):\n",
        "\t\t\tif self.nonlinear:\n",
        "\t\t\t\tnum = x * tf.nn.sigmoid(self.v * x)\n",
        "\t\t\t\treturn num / group_std(x) * self.gamma + self.beta\n",
        "\t\t\telse:\n",
        "\t\t\t\treturn x * self.gamma + self.beta"
      ],
      "execution_count": 0,
      "outputs": []
    },
    {
      "cell_type": "markdown",
      "metadata": {
        "id": "Cw-827Fm6sGN",
        "colab_type": "text"
      },
      "source": [
        "## Mini Inception"
      ]
    },
    {
      "cell_type": "code",
      "metadata": {
        "id": "7AR-ipdE6WHq",
        "colab_type": "code",
        "colab": {}
      },
      "source": [
        "# Implementation comes from http://pyimg.co/mac01\n",
        "def minigooglenet_functional(width, height, depth, classes, norm=EvoNorm2dS0, groups=32):\n",
        "\tdef conv_module(x, K, kX, kY, stride, chanDim, padding=\"same\"):\n",
        "\t\t# define a CONV => EvoNorm pattern\n",
        "\t\tx = Conv2D(K, (kX, kY), strides=stride, padding=padding)(x)\n",
        "\t\t\n",
        "\t\tif isinstance(norm, EvoNorm2dS0):\n",
        "\t\t\tlayer = norm(in_channels=K, groups=groups)\n",
        "\t\telse:\n",
        "\t\t\tlayer = norm(in_channels=K)\n",
        "\t\t\n",
        "\t\tx = layer(x)\n",
        "\n",
        "\t\t# return the block\n",
        "\t\treturn x\n",
        "\n",
        "\tdef inception_module(x, numK1x1, numK3x3, chanDim):\n",
        "\t\t# define two CONV modules, then concatenate across the\n",
        "\t\t# channel dimension\n",
        "\t\tconv_1x1 = conv_module(x, numK1x1, 1, 1, (1, 1), chanDim)\n",
        "\t\tconv_3x3 = conv_module(x, numK3x3, 3, 3, (1, 1), chanDim)\n",
        "\t\tx = concatenate([conv_1x1, conv_3x3], axis=chanDim)\n",
        "\n",
        "\t\t# return the block\n",
        "\t\treturn x\n",
        "\n",
        "\tdef downsample_module(x, K, chanDim):\n",
        "\t\t# define the CONV module and POOL, then concatenate\n",
        "\t\t# across the channel dimensions\n",
        "\t\tconv_3x3 = conv_module(x, K, 3, 3, (2, 2), chanDim,\n",
        "\t\t\tpadding=\"valid\")\n",
        "\t\tpool = MaxPooling2D((3, 3), strides=(2, 2))(x)\n",
        "\t\tx = concatenate([conv_3x3, pool], axis=chanDim)\n",
        "\n",
        "\t\t# return the block\n",
        "\t\treturn x\n",
        "\n",
        "\t# initialize the input shape to be \"channels last\" and the\n",
        "\t# channels dimension itself\n",
        "\tinputShape = (height, width, depth)\n",
        "\tchanDim = -1\n",
        "\n",
        "\t# define the model input and first CONV module\n",
        "\tinputs = Input(shape=inputShape)\n",
        "\tx = conv_module(inputs, 96, 3, 3, (1, 1), chanDim)\n",
        "\n",
        "\t# two Inception modules followed by a downsample module\n",
        "\tx = inception_module(x, 32, 32, chanDim)\n",
        "\tx = inception_module(x, 32, 48, chanDim)\n",
        "\tx = downsample_module(x, 80, chanDim)\n",
        "\n",
        "\t# four Inception modules followed by a downsample module\n",
        "\tx = inception_module(x, 112, 48, chanDim)\n",
        "\tx = inception_module(x, 96, 64, chanDim)\n",
        "\tx = inception_module(x, 80, 80, chanDim)\n",
        "\tx = inception_module(x, 48, 96, chanDim)\n",
        "\tx = downsample_module(x, 96, chanDim)\n",
        "\n",
        "\t# two Inception modules followed by global POOL and dropout\n",
        "\tx = inception_module(x, 176, 160, chanDim)\n",
        "\tx = inception_module(x, 176, 160, chanDim)\n",
        "\tx = AveragePooling2D((7, 7))(x)\n",
        "\tx = Dropout(0.5)(x)\n",
        "\n",
        "\t# softmax classifier\n",
        "\tx = Flatten()(x)\n",
        "\tx = Dense(classes)(x)\n",
        "\tx = Activation(\"softmax\")(x)\n",
        "\n",
        "\t# create the model\n",
        "\tmodel = Model(inputs, x, name=\"minigooglenet\")\n",
        "\n",
        "\t# return the constructed network architecture\n",
        "\treturn model"
      ],
      "execution_count": 0,
      "outputs": []
    },
    {
      "cell_type": "code",
      "metadata": {
        "id": "8Hvf1HFq6uht",
        "colab_type": "code",
        "colab": {}
      },
      "source": [
        "# One-hot encoding of the labels\n",
        "y_train_ohe = tf.keras.utils.to_categorical(y_train)\n",
        "y_test_ohe = tf.keras.utils.to_categorical(y_test)"
      ],
      "execution_count": 0,
      "outputs": []
    },
    {
      "cell_type": "code",
      "metadata": {
        "id": "sHr45ZdM6z7O",
        "colab_type": "code",
        "colab": {}
      },
      "source": [
        "# Hyperparameters\n",
        "BATCH_SIZE=128\n",
        "EPOCHS=60"
      ],
      "execution_count": 0,
      "outputs": []
    },
    {
      "cell_type": "code",
      "metadata": {
        "id": "asAl_dv461U_",
        "colab_type": "code",
        "colab": {}
      },
      "source": [
        "# Import wandb's Keras callback\n",
        "from wandb.keras import WandbCallback"
      ],
      "execution_count": 0,
      "outputs": []
    },
    {
      "cell_type": "code",
      "metadata": {
        "id": "hPXuOokS63FH",
        "colab_type": "code",
        "colab": {}
      },
      "source": [
        "# Configure the sweep – specify the parameters to search through, the search strategy, the optimization metric et all.\n",
        "sweep_config = {\n",
        "    \"method\": \"random\", #grid, random\n",
        "    \"metric\": {\n",
        "      \"name\": \"accuracy\",\n",
        "      \"goal\": \"maximize\"   \n",
        "    },\n",
        "    \"parameters\": {\n",
        "        \"groups\": {\n",
        "            \"values\": [4, 8, 12, 16, 32]\n",
        "        },\n",
        "        \"epochs\": {\n",
        "            \"values\": [10, 20, 30, 40, 50, 60]\n",
        "        },\n",
        "        \"learning_rate\": {\n",
        "            \"values\": [1e-2, 1e-3, 1e-4, 3e-4, 3e-5, 1e-5]\n",
        "        },\n",
        "        \"optimizer\": {\n",
        "            'values': [\"adam\", \"sgd\"]\n",
        "        }\n",
        "    }\n",
        "}"
      ],
      "execution_count": 0,
      "outputs": []
    },
    {
      "cell_type": "code",
      "metadata": {
        "id": "xA0Iw0dg7D-d",
        "colab_type": "code",
        "outputId": "13aa0bba-2698-4ba2-fcf6-418f22454e09",
        "colab": {
          "base_uri": "https://localhost:8080/",
          "height": 51
        }
      },
      "source": [
        "# Initialize the sweep\n",
        "sweep_id = wandb.sweep(sweep_config, entity=\"sayakpaul\", project=\"EvoNorm-TensorFlow2\")"
      ],
      "execution_count": 15,
      "outputs": [
        {
          "output_type": "stream",
          "text": [
            "Create sweep with ID: dwn5aefr\n",
            "Sweep URL: https://app.wandb.ai/sayakpaul/EvoNorm-TensorFlow2/sweeps/dwn5aefr\n"
          ],
          "name": "stdout"
        }
      ]
    },
    {
      "cell_type": "code",
      "metadata": {
        "id": "YFDZv5Oh7K9w",
        "colab_type": "code",
        "colab": {}
      },
      "source": [
        "# Define the training loop\n",
        "def train():\n",
        "    # Default values for hyper-parameters we're going to sweep over\n",
        "    config_defaults = {\n",
        "        \"batch_size\": 128,\n",
        "    }\n",
        "    \n",
        "    # Initialize a new wandb run\n",
        "    wandb.init(config=config_defaults, project=\"EvoNorm-TensorFlow2\")\n",
        "    \n",
        "    # Config is a variable that holds and saves hyperparameters and inputs\n",
        "    config = wandb.config\n",
        "    \n",
        "    # Call model with the current parameters\n",
        "    model = minigooglenet_functional(32, 32, 3, 10, norm=EvoNorm2dS0, groups=config.groups)\n",
        "    \n",
        "    # Set up optimizer\n",
        "    if config.optimizer==\"sgd\":\n",
        "        optimizer = tf.keras.optimizers.SGD(lr=config.learning_rate, momentum=0.9, decay=1e-2 / config.epochs)\n",
        "    elif config.optimizer==\"adam\":\n",
        "        optimizer = tf.keras.optimizers.Adam(lr=config.learning_rate, beta_1=0.9, beta_2=0.999, clipnorm=1.0)\n",
        "    \n",
        "    # Compile model\n",
        "    model.compile(loss=\"categorical_crossentropy\", optimizer=optimizer,\n",
        "\t    metrics=[\"accuracy\"])\n",
        "    \n",
        "    # Train model    \n",
        "    model.fit(X_train, y_train_ohe,\n",
        "                    validation_data=(X_test, y_test_ohe),\n",
        "                    batch_size=config_defaults[\"batch_size\"],\n",
        "                    epochs=config.epochs,\n",
        "                    callbacks=[WandbCallback()])"
      ],
      "execution_count": 0,
      "outputs": []
    },
    {
      "cell_type": "code",
      "metadata": {
        "id": "D8XVKGLF_FOM",
        "colab_type": "code",
        "colab": {}
      },
      "source": [
        "# Initialize sweep\n",
        "wandb.agent(sweep_id, train)"
      ],
      "execution_count": 0,
      "outputs": []
    }
  ]
}